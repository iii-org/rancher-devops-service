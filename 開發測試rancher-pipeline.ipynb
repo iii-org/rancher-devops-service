{
 "cells": [
  {
   "cell_type": "markdown",
   "metadata": {},
   "source": [
    "## iii-org rancher pipeline data generator example\n",
    "\n",
    "透過服務函式建立完整rancher pipeline資料內容(教學範例)\n",
    "\n",
    "#### 參考\n",
    "* [使用-python-讀取-yaml-檔案-d3f413d7dd6](https://medium.com/bryanyang0528/%E4%BD%BF%E7%94%A8-python-%E8%AE%80%E5%8F%96-yaml-%E6%AA%94%E6%A1%88-d3f413d7dd6)\n",
    "* [yaml.readthedocs](https://yaml.readthedocs.io/en/latest/example.html)"
   ]
  },
  {
   "cell_type": "markdown",
   "metadata": {
    "execution": {
     "iopub.execute_input": "2020-12-17T04:10:21.139202Z",
     "iopub.status.busy": "2020-12-17T04:10:21.138533Z",
     "iopub.status.idle": "2020-12-17T04:10:21.144789Z",
     "shell.execute_reply": "2020-12-17T04:10:21.144128Z",
     "shell.execute_reply.started": "2020-12-17T04:10:21.139121Z"
    }
   },
   "source": [
    "## 引入函式庫"
   ]
  },
  {
   "cell_type": "code",
   "execution_count": 1,
   "metadata": {
    "execution": {
     "iopub.execute_input": "2020-12-23T08:33:32.736482Z",
     "iopub.status.busy": "2020-12-23T08:33:32.736276Z",
     "iopub.status.idle": "2020-12-23T08:33:32.757494Z",
     "shell.execute_reply": "2020-12-23T08:33:32.756920Z",
     "shell.execute_reply.started": "2020-12-23T08:33:32.736426Z"
    }
   },
   "outputs": [],
   "source": [
    "import yaml\n",
    "import sys\n",
    "import os"
   ]
  },
  {
   "cell_type": "code",
   "execution_count": 2,
   "metadata": {
    "execution": {
     "iopub.execute_input": "2020-12-23T08:33:32.758858Z",
     "iopub.status.busy": "2020-12-23T08:33:32.758682Z",
     "iopub.status.idle": "2020-12-23T08:33:32.761968Z",
     "shell.execute_reply": "2020-12-23T08:33:32.761378Z",
     "shell.execute_reply.started": "2020-12-23T08:33:32.758836Z"
    }
   },
   "outputs": [],
   "source": [
    "## \n",
    "PIPELINE_TEMPLATE_FILE = './stander-rancher-pipeline.yaml'\n",
    "## 部屬環境Config模擬\n",
    "DEVOPS_REGISTRY = os.getenv('DEVOPS_REGISTRY', \"XX.XX.XX.XX:XXXX\")\n",
    "REGISTRY_INSECURE = os.getenv('REGISTRY_INSECURE', \"false\")\n",
    "GIT_HOST = os.getenv('GIT_HOST', \"10.XX.XX.XX\")"
   ]
  },
  {
   "cell_type": "markdown",
   "metadata": {},
   "source": [
    "## 讀取標準範例樣板並顯示樣板"
   ]
  },
  {
   "cell_type": "code",
   "execution_count": 3,
   "metadata": {
    "execution": {
     "iopub.execute_input": "2020-12-23T08:33:32.763308Z",
     "iopub.status.busy": "2020-12-23T08:33:32.763126Z",
     "iopub.status.idle": "2020-12-23T08:33:32.789408Z",
     "shell.execute_reply": "2020-12-23T08:33:32.788922Z",
     "shell.execute_reply.started": "2020-12-23T08:33:32.763285Z"
    }
   },
   "outputs": [
    {
     "name": "stdout",
     "output_type": "stream",
     "text": [
      "stages:\n",
      "- name: Publish User Web image\n",
      "  steps:\n",
      "  - env:\n",
      "      PLUGIN_INSECURE: 'true'\n",
      "    publishImageConfig:\n",
      "      buildContext: .\n",
      "      dockerfilePath: ./Dockerfile\n",
      "      pushRemote: true\n",
      "      registry: 10.50.1.63:5443\n",
      "      tag: ${CICD_GIT_REPO_NAME}/${CICD_GIT_BRANCH}-web:latest\n",
      "- name: Deploy app-web\n",
      "  steps:\n",
      "  - applyAppConfig:\n",
      "      answers:\n",
      "        checkmarx.enabled: false\n",
      "        checkmarx.version: latest\n",
      "        git.branch: ${CICD_GIT_BRANCH}\n",
      "        git.commitID: ${CICD_GIT_COMMIT}\n",
      "        git.repoName: ${CICD_GIT_REPO_NAME}\n",
      "        git.url: ${CICD_GIT_URL}\n",
      "        newman.enabled: false\n",
      "        web.image: 10.50.1.63:5443/${CICD_GIT_REPO_NAME}/${CICD_GIT_BRANCH}-web:latest\n",
      "        web.tag: latest\n",
      "        web.type: uwsgi-flask\n",
      "      catalogTemplate: cattle-global-data:iii-dev-charts3-web\n",
      "      name: ${CICD_GIT_REPO_NAME}-${CICD_GIT_BRANCH}-web\n",
      "      targetNamespace: ${CICD_GIT_REPO_NAME}\n",
      "      version: 0.1.0\n",
      "- name: Deploy app-db\n",
      "  steps:\n",
      "  - applyAppConfig:\n",
      "      answers:\n",
      "        db.name: health\n",
      "        db.password: bearisbear\n",
      "        db.type: mysql\n",
      "        db.username: bear\n",
      "        git.branch: ${CICD_GIT_BRANCH}\n",
      "        git.host: 10.50.1.53\n",
      "        git.repoName: ${CICD_GIT_REPO_NAME}\n",
      "      catalogTemplate: cattle-global-data:iii-dev-charts3-db\n",
      "      name: ${CICD_GIT_REPO_NAME}-${CICD_GIT_BRANCH}\n",
      "      targetNamespace: ${CICD_GIT_REPO_NAME}\n",
      "      version: 0.1.0\n"
     ]
    }
   ],
   "source": [
    "with open(PIPELINE_TEMPLATE_FILE, 'r') as stream:\n",
    "    pipeline_template = yaml.load(stream, Loader=yaml.FullLoader)\n",
    "yaml.dump(pipeline_template, sys.stdout)"
   ]
  },
  {
   "cell_type": "markdown",
   "metadata": {
    "execution": {
     "iopub.execute_input": "2020-12-17T06:59:59.743632Z",
     "iopub.status.busy": "2020-12-17T06:59:59.743476Z",
     "iopub.status.idle": "2020-12-17T06:59:59.746044Z",
     "shell.execute_reply": "2020-12-17T06:59:59.745534Z",
     "shell.execute_reply.started": "2020-12-17T06:59:59.743612Z"
    }
   },
   "source": [
    "## 按照部屬環境進行範本環境的修改"
   ]
  },
  {
   "cell_type": "code",
   "execution_count": 4,
   "metadata": {
    "execution": {
     "iopub.execute_input": "2020-12-23T08:33:32.790355Z",
     "iopub.status.busy": "2020-12-23T08:33:32.790180Z",
     "iopub.status.idle": "2020-12-23T08:33:32.794604Z",
     "shell.execute_reply": "2020-12-23T08:33:32.793976Z",
     "shell.execute_reply.started": "2020-12-23T08:33:32.790332Z"
    }
   },
   "outputs": [],
   "source": [
    "def env_rancher_pipeline_generate(PIPELINE_TEMPLATE_FILE, DEVOPS_REGISTRY, REGISTRY_INSECURE, GIT_HOST):\n",
    "    # 讀取範例檔案 \n",
    "    with open(PIPELINE_TEMPLATE_FILE, 'r') as stream:\n",
    "        pipeline_template = yaml.load(stream, Loader=yaml.FullLoader)\n",
    "    temp_pipeline_stages = pipeline_template['stages']\n",
    "    # 修改第一階段 Publish User Web image\n",
    "    temp_pipeline_stages[0]['steps'][0]['publishImageConfig']['registry'] = DEVOPS_REGISTRY\n",
    "    temp_pipeline_stages[0]['steps'][0]['env']['PLUGIN_INSECURE'] = REGISTRY_INSECURE\n",
    "    # 修改第三個階段 \n",
    "    temp_pipeline_stages[2]['steps'][0]['applyAppConfig']['answers']['git.host'] = GIT_HOST\n",
    "    return pipeline_template"
   ]
  },
  {
   "cell_type": "code",
   "execution_count": 5,
   "metadata": {
    "execution": {
     "iopub.execute_input": "2020-12-23T08:33:32.795581Z",
     "iopub.status.busy": "2020-12-23T08:33:32.795401Z",
     "iopub.status.idle": "2020-12-23T08:33:32.822085Z",
     "shell.execute_reply": "2020-12-23T08:33:32.821519Z",
     "shell.execute_reply.started": "2020-12-23T08:33:32.795558Z"
    }
   },
   "outputs": [
    {
     "name": "stdout",
     "output_type": "stream",
     "text": [
      "stages:\n",
      "- name: Publish User Web image\n",
      "  steps:\n",
      "  - env:\n",
      "      PLUGIN_INSECURE: 'false'\n",
      "    publishImageConfig:\n",
      "      buildContext: .\n",
      "      dockerfilePath: ./Dockerfile\n",
      "      pushRemote: true\n",
      "      registry: XX.XX.XX.XX:XXXX\n",
      "      tag: ${CICD_GIT_REPO_NAME}/${CICD_GIT_BRANCH}-web:latest\n",
      "- name: Deploy app-web\n",
      "  steps:\n",
      "  - applyAppConfig:\n",
      "      answers:\n",
      "        checkmarx.enabled: false\n",
      "        checkmarx.version: latest\n",
      "        git.branch: ${CICD_GIT_BRANCH}\n",
      "        git.commitID: ${CICD_GIT_COMMIT}\n",
      "        git.repoName: ${CICD_GIT_REPO_NAME}\n",
      "        git.url: ${CICD_GIT_URL}\n",
      "        newman.enabled: false\n",
      "        web.image: 10.50.1.63:5443/${CICD_GIT_REPO_NAME}/${CICD_GIT_BRANCH}-web:latest\n",
      "        web.tag: latest\n",
      "        web.type: uwsgi-flask\n",
      "      catalogTemplate: cattle-global-data:iii-dev-charts3-web\n",
      "      name: ${CICD_GIT_REPO_NAME}-${CICD_GIT_BRANCH}-web\n",
      "      targetNamespace: ${CICD_GIT_REPO_NAME}\n",
      "      version: 0.1.0\n",
      "- name: Deploy app-db\n",
      "  steps:\n",
      "  - applyAppConfig:\n",
      "      answers:\n",
      "        db.name: health\n",
      "        db.password: bearisbear\n",
      "        db.type: mysql\n",
      "        db.username: bear\n",
      "        git.branch: ${CICD_GIT_BRANCH}\n",
      "        git.host: 10.XX.XX.XX\n",
      "        git.repoName: ${CICD_GIT_REPO_NAME}\n",
      "      catalogTemplate: cattle-global-data:iii-dev-charts3-db\n",
      "      name: ${CICD_GIT_REPO_NAME}-${CICD_GIT_BRANCH}\n",
      "      targetNamespace: ${CICD_GIT_REPO_NAME}\n",
      "      version: 0.1.0\n"
     ]
    }
   ],
   "source": [
    "yaml.dump(env_rancher_pipeline_generate(PIPELINE_TEMPLATE_FILE, DEVOPS_REGISTRY, REGISTRY_INSECURE, GIT_HOST), sys.stdout)"
   ]
  },
  {
   "cell_type": "markdown",
   "metadata": {},
   "source": [
    "## (單一專案web)使用者僅需要前端部屬\n",
    "\n",
    "* `checkmarxEnabled`: 是否啟動checkmarx\n",
    "* `checkmarxVersion`: checkmarx版本\n",
    "* `newmanEnabled`: 是否啟動newman\n",
    "* `webImage`: 鏡像名稱\n",
    "* `webTag`: 鏡像tag\n",
    "* `webType`: 部屬web的type"
   ]
  },
  {
   "cell_type": "code",
   "execution_count": 6,
   "metadata": {
    "execution": {
     "iopub.execute_input": "2020-12-23T08:33:32.823035Z",
     "iopub.status.busy": "2020-12-23T08:33:32.822862Z",
     "iopub.status.idle": "2020-12-23T08:33:32.830326Z",
     "shell.execute_reply": "2020-12-23T08:33:32.829730Z",
     "shell.execute_reply.started": "2020-12-23T08:33:32.823012Z"
    }
   },
   "outputs": [],
   "source": [
    "def web_service_pipeline(checkmarxEnabled, checkmarxVersion, newmanEnabled, webType):\n",
    "    global PIPELINE_TEMPLATE_FILE, DEVOPS_REGISTRY, REGISTRY_INSECURE, GIT_HOST\n",
    "    pipeline_template = env_rancher_pipeline_generate(PIPELINE_TEMPLATE_FILE, DEVOPS_REGISTRY, REGISTRY_INSECURE, GIT_HOST)\n",
    "    temp_pipeline_stages = pipeline_template['stages']\n",
    "    # 把最後面的階段移除就會變成結果\n",
    "    temp_pipeline_stages.pop(2)\n",
    "    # 將使用者參數帶入\n",
    "    app_web_answers = temp_pipeline_stages[1]['steps'][0]['applyAppConfig']['answers']\n",
    "    app_web_answers['checkmarx.enabled'] = checkmarxEnabled\n",
    "    app_web_answers['newman.enabled'] = newmanEnabled\n",
    "    app_web_answers['web.type'] = webType\n",
    "    return yaml.dump(pipeline_template, sys.stdout)"
   ]
  },
  {
   "cell_type": "markdown",
   "metadata": {},
   "source": [
    "## (example1) 使用者僅需要前端部屬"
   ]
  },
  {
   "cell_type": "code",
   "execution_count": 7,
   "metadata": {
    "execution": {
     "iopub.execute_input": "2020-12-23T08:33:32.831375Z",
     "iopub.status.busy": "2020-12-23T08:33:32.831169Z",
     "iopub.status.idle": "2020-12-23T08:33:32.854644Z",
     "shell.execute_reply": "2020-12-23T08:33:32.853936Z",
     "shell.execute_reply.started": "2020-12-23T08:33:32.831351Z"
    }
   },
   "outputs": [
    {
     "name": "stdout",
     "output_type": "stream",
     "text": [
      "stages:\n",
      "- name: Publish User Web image\n",
      "  steps:\n",
      "  - env:\n",
      "      PLUGIN_INSECURE: 'false'\n",
      "    publishImageConfig:\n",
      "      buildContext: .\n",
      "      dockerfilePath: ./Dockerfile\n",
      "      pushRemote: true\n",
      "      registry: XX.XX.XX.XX:XXXX\n",
      "      tag: ${CICD_GIT_REPO_NAME}/${CICD_GIT_BRANCH}-web:latest\n",
      "- name: Deploy app-web\n",
      "  steps:\n",
      "  - applyAppConfig:\n",
      "      answers:\n",
      "        checkmarx.enabled: true\n",
      "        checkmarx.version: latest\n",
      "        git.branch: ${CICD_GIT_BRANCH}\n",
      "        git.commitID: ${CICD_GIT_COMMIT}\n",
      "        git.repoName: ${CICD_GIT_REPO_NAME}\n",
      "        git.url: ${CICD_GIT_URL}\n",
      "        newman.enabled: false\n",
      "        web.image: 10.50.1.63:5443/${CICD_GIT_REPO_NAME}/${CICD_GIT_BRANCH}-web:latest\n",
      "        web.tag: latest\n",
      "        web.type: php\n",
      "      catalogTemplate: cattle-global-data:iii-dev-charts3-web\n",
      "      name: ${CICD_GIT_REPO_NAME}-${CICD_GIT_BRANCH}-web\n",
      "      targetNamespace: ${CICD_GIT_REPO_NAME}\n",
      "      version: 0.1.0\n"
     ]
    }
   ],
   "source": [
    "web_service_pipeline(True, \"0.9.2\", False, 'php')"
   ]
  },
  {
   "cell_type": "markdown",
   "metadata": {},
   "source": [
    "## (單一專案db)使用者僅需要資料庫"
   ]
  },
  {
   "cell_type": "code",
   "execution_count": 8,
   "metadata": {
    "execution": {
     "iopub.execute_input": "2020-12-23T08:33:32.856211Z",
     "iopub.status.busy": "2020-12-23T08:33:32.856034Z",
     "iopub.status.idle": "2020-12-23T08:33:32.860594Z",
     "shell.execute_reply": "2020-12-23T08:33:32.860071Z",
     "shell.execute_reply.started": "2020-12-23T08:33:32.856189Z"
    }
   },
   "outputs": [],
   "source": [
    "def db_service_pipeline(db_name, db_type, db_username, db_password):\n",
    "    global PIPELINE_TEMPLATE_FILE, DEVOPS_REGISTRY, REGISTRY_INSECURE, GIT_HOST\n",
    "    pipeline_template = env_rancher_pipeline_generate(PIPELINE_TEMPLATE_FILE, DEVOPS_REGISTRY, REGISTRY_INSECURE, GIT_HOST)\n",
    "    temp_pipeline_stages = pipeline_template['stages']\n",
    "    # 把最前面的兩個階段移除\n",
    "    temp_pipeline_stages.pop(0)\n",
    "    temp_pipeline_stages.pop(0)\n",
    "    # 將使用者參數帶入\n",
    "    app_web_answers = temp_pipeline_stages[0]['steps'][0]['applyAppConfig']['answers']\n",
    "    app_web_answers['db.name'] = db_name\n",
    "    app_web_answers['db.type'] = db_type\n",
    "    app_web_answers['db.username'] = db_username\n",
    "    app_web_answers['db.password'] = db_password\n",
    "    return yaml.dump(pipeline_template, sys.stdout)"
   ]
  },
  {
   "cell_type": "code",
   "execution_count": 9,
   "metadata": {
    "execution": {
     "iopub.execute_input": "2020-12-23T08:33:32.861554Z",
     "iopub.status.busy": "2020-12-23T08:33:32.861380Z",
     "iopub.status.idle": "2020-12-23T08:33:32.883259Z",
     "shell.execute_reply": "2020-12-23T08:33:32.882067Z",
     "shell.execute_reply.started": "2020-12-23T08:33:32.861532Z"
    }
   },
   "outputs": [
    {
     "name": "stdout",
     "output_type": "stream",
     "text": [
      "stages:\n",
      "- name: Deploy app-db\n",
      "  steps:\n",
      "  - applyAppConfig:\n",
      "      answers:\n",
      "        db.name: bearDB\n",
      "        db.password: bearpassword\n",
      "        db.type: mysql\n",
      "        db.username: bearuser\n",
      "        git.branch: ${CICD_GIT_BRANCH}\n",
      "        git.host: 10.XX.XX.XX\n",
      "        git.repoName: ${CICD_GIT_REPO_NAME}\n",
      "      catalogTemplate: cattle-global-data:iii-dev-charts3-db\n",
      "      name: ${CICD_GIT_REPO_NAME}-${CICD_GIT_BRANCH}\n",
      "      targetNamespace: ${CICD_GIT_REPO_NAME}\n",
      "      version: 0.1.0\n"
     ]
    }
   ],
   "source": [
    "db_service_pipeline('bearDB', 'mysql', 'bearuser', 'bearpassword')"
   ]
  },
  {
   "cell_type": "code",
   "execution_count": null,
   "metadata": {},
   "outputs": [],
   "source": []
  }
 ],
 "metadata": {
  "kernelspec": {
   "display_name": "Python 3",
   "language": "python",
   "name": "python3"
  },
  "language_info": {
   "codemirror_mode": {
    "name": "ipython",
    "version": 3
   },
   "file_extension": ".py",
   "mimetype": "text/x-python",
   "name": "python",
   "nbconvert_exporter": "python",
   "pygments_lexer": "ipython3",
   "version": "3.8.6"
  }
 },
 "nbformat": 4,
 "nbformat_minor": 4
}
