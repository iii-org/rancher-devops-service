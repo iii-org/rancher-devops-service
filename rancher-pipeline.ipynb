{
 "cells": [
  {
   "cell_type": "markdown",
   "metadata": {},
   "source": [
    "### iii-org rancher pipeline data generator\n",
    "\n",
    "透過服務函式建立完整rancher pipeline資料內容"
   ]
  },
  {
   "cell_type": "code",
   "execution_count": 5,
   "metadata": {
    "execution": {
     "iopub.execute_input": "2020-12-17T03:23:11.775027Z",
     "iopub.status.busy": "2020-12-17T03:23:11.774362Z",
     "iopub.status.idle": "2020-12-17T03:23:11.817238Z",
     "shell.execute_reply": "2020-12-17T03:23:11.816188Z",
     "shell.execute_reply.started": "2020-12-17T03:23:11.774946Z"
    }
   },
   "outputs": [],
   "source": [
    "import sys\n",
    "from ruamel.yaml import YAML"
   ]
  },
  {
   "cell_type": "code",
   "execution_count": 6,
   "metadata": {
    "execution": {
     "iopub.execute_input": "2020-12-17T03:23:13.953846Z",
     "iopub.status.busy": "2020-12-17T03:23:13.953180Z",
     "iopub.status.idle": "2020-12-17T03:23:13.959272Z",
     "shell.execute_reply": "2020-12-17T03:23:13.958567Z",
     "shell.execute_reply.started": "2020-12-17T03:23:13.953767Z"
    }
   },
   "outputs": [],
   "source": [
    "inp = \"\"\"\n",
    "stages:\n",
    "  # 建立使用者專用的 Docker Image\n",
    "  - name: Publish User Web image\n",
    "    steps:\n",
    "    - publishImageConfig:\n",
    "        dockerfilePath: ./Dockerfile\n",
    "        buildContext: .\n",
    "        tag: app/${CICD_GIT_REPO_NAME}-web:latest\n",
    "        pushRemote: true\n",
    "        registry: 10.50.1.63:5443\n",
    "      env:\n",
    "        PLUGIN_INSECURE: \"true\"\n",
    "\n",
    "  # 部屬使用者應用(app)\n",
    "  - name: Deploy app-web\n",
    "    steps:\n",
    "    - applyAppConfig:\n",
    "        catalogTemplate: cattle-global-data:iii-dev-charts3-web\n",
    "        version: 0.1.0\n",
    "        name: ${CICD_GIT_REPO_NAME}-${CICD_GIT_BRANCH}-web\n",
    "        targetNamespace: p-v2nzs-pipeline\n",
    "        answers:\n",
    "          # 基礎pipeline參數\n",
    "          git.url: ${CICD_GIT_URL}\n",
    "          git.branch: ${CICD_GIT_BRANCH}\n",
    "          git.commitID: ${CICD_GIT_COMMIT}\n",
    "          git.repoName: ${CICD_GIT_REPO_NAME}\n",
    "          # web參數設定\n",
    "          web.type: uwsgi-flask\n",
    "          web.image: 10.50.1.63:5443/app/${CICD_GIT_REPO_NAME}-web\n",
    "          web.tag: latest\n",
    "          checkmarx.enabled: false\n",
    "          newman.enabled: false\n",
    "\"\"\""
   ]
  },
  {
   "cell_type": "code",
   "execution_count": 7,
   "metadata": {
    "execution": {
     "iopub.execute_input": "2020-12-17T03:23:16.131405Z",
     "iopub.status.busy": "2020-12-17T03:23:16.131194Z",
     "iopub.status.idle": "2020-12-17T03:23:16.146590Z",
     "shell.execute_reply": "2020-12-17T03:23:16.145992Z",
     "shell.execute_reply.started": "2020-12-17T03:23:16.131380Z"
    }
   },
   "outputs": [],
   "source": [
    "yaml = YAML()\n",
    "code = yaml.load(inp)"
   ]
  },
  {
   "cell_type": "code",
   "execution_count": 8,
   "metadata": {
    "execution": {
     "iopub.execute_input": "2020-12-17T03:24:33.314780Z",
     "iopub.status.busy": "2020-12-17T03:24:33.314548Z",
     "iopub.status.idle": "2020-12-17T03:24:33.330900Z",
     "shell.execute_reply": "2020-12-17T03:24:33.330243Z",
     "shell.execute_reply.started": "2020-12-17T03:24:33.314755Z"
    }
   },
   "outputs": [
    {
     "name": "stdout",
     "output_type": "stream",
     "text": [
      "stages:\n",
      "  # 建立flask專用的 Docker Image\n",
      "- name: Publish Flask image\n",
      "  steps:\n",
      "  - publishImageConfig:\n",
      "      dockerfilePath: ./Dockerfile\n",
      "      buildContext: .\n",
      "      tag: app/${CICD_GIT_REPO_NAME}-web:latest\n",
      "      pushRemote: true\n",
      "      registry: 10.50.1.63:5443\n",
      "    env:\n",
      "      PLUGIN_INSECURE: 'true'\n",
      "\n",
      "  # 部屬使用者應用(app)\n",
      "- name: Deploy app-web\n",
      "  steps:\n",
      "  - applyAppConfig:\n",
      "      catalogTemplate: cattle-global-data:iii-dev-charts3-web\n",
      "      version: 0.1.0\n",
      "      name: ${CICD_GIT_REPO_NAME}-${CICD_GIT_BRANCH}-web\n",
      "      targetNamespace: p-v2nzs-pipeline\n",
      "      answers:\n",
      "          # 基礎pipeline參數\n",
      "        git.url: ${CICD_GIT_URL}\n",
      "        git.branch: ${CICD_GIT_BRANCH}\n",
      "        git.commitID: ${CICD_GIT_COMMIT}\n",
      "        git.repoName: ${CICD_GIT_REPO_NAME}\n",
      "          # web參數設定\n",
      "        web.type: uwsgi-flask\n",
      "        web.image: 10.50.1.63:5443/app/${CICD_GIT_REPO_NAME}-web\n",
      "        web.tag: latest\n",
      "        checkmarx.enabled: false\n",
      "        newman.enabled: false\n"
     ]
    }
   ],
   "source": [
    "yaml.dump(code, sys.stdout)"
   ]
  },
  {
   "cell_type": "code",
   "execution_count": 10,
   "metadata": {
    "execution": {
     "iopub.execute_input": "2020-12-17T03:26:22.204196Z",
     "iopub.status.busy": "2020-12-17T03:26:22.203974Z",
     "iopub.status.idle": "2020-12-17T03:26:22.207130Z",
     "shell.execute_reply": "2020-12-17T03:26:22.206471Z",
     "shell.execute_reply.started": "2020-12-17T03:26:22.204171Z"
    }
   },
   "outputs": [],
   "source": [
    "tcode = code['stages'].pop(1)"
   ]
  },
  {
   "cell_type": "code",
   "execution_count": 11,
   "metadata": {
    "execution": {
     "iopub.execute_input": "2020-12-17T03:26:32.508665Z",
     "iopub.status.busy": "2020-12-17T03:26:32.507992Z",
     "iopub.status.idle": "2020-12-17T03:26:32.524935Z",
     "shell.execute_reply": "2020-12-17T03:26:32.522762Z",
     "shell.execute_reply.started": "2020-12-17T03:26:32.508585Z"
    }
   },
   "outputs": [
    {
     "name": "stdout",
     "output_type": "stream",
     "text": [
      "name: Deploy app-web\n",
      "steps:\n",
      "- applyAppConfig:\n",
      "    catalogTemplate: cattle-global-data:iii-dev-charts3-web\n",
      "    version: 0.1.0\n",
      "    name: ${CICD_GIT_REPO_NAME}-${CICD_GIT_BRANCH}-web\n",
      "    targetNamespace: p-v2nzs-pipeline\n",
      "    answers:\n",
      "          # 基礎pipeline參數\n",
      "      git.url: ${CICD_GIT_URL}\n",
      "      git.branch: ${CICD_GIT_BRANCH}\n",
      "      git.commitID: ${CICD_GIT_COMMIT}\n",
      "      git.repoName: ${CICD_GIT_REPO_NAME}\n",
      "          # web參數設定\n",
      "      web.type: uwsgi-flask\n",
      "      web.image: 10.50.1.63:5443/app/${CICD_GIT_REPO_NAME}-web\n",
      "      web.tag: latest\n",
      "      checkmarx.enabled: false\n",
      "      newman.enabled: false\n"
     ]
    }
   ],
   "source": [
    "yaml.dump(tcode, sys.stdout)"
   ]
  },
  {
   "cell_type": "code",
   "execution_count": null,
   "metadata": {},
   "outputs": [],
   "source": []
  }
 ],
 "metadata": {
  "kernelspec": {
   "display_name": "Python 3",
   "language": "python",
   "name": "python3"
  },
  "language_info": {
   "codemirror_mode": {
    "name": "ipython",
    "version": 3
   },
   "file_extension": ".py",
   "mimetype": "text/x-python",
   "name": "python",
   "nbconvert_exporter": "python",
   "pygments_lexer": "ipython3",
   "version": "3.8.6"
  }
 },
 "nbformat": 4,
 "nbformat_minor": 4
}
