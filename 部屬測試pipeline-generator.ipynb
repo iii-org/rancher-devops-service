{
 "cells": [
  {
   "cell_type": "markdown",
   "metadata": {},
   "source": [
    "## 部屬(Flask) 產生pipeline的服務\n",
    "\n",
    "\n",
    "參考資料\n",
    "* [flask-json](https://flask-json.readthedocs.io/en/latest/)"
   ]
  },
  {
   "cell_type": "code",
   "execution_count": null,
   "metadata": {},
   "outputs": [],
   "source": [
    "from datetime import datetime\n",
    "from flask import Flask, request\n",
    "from flask_json import FlaskJSON, JsonError, json_response, as_json\n",
    "\n",
    "from lib_pipeline.rancher_pipeline import env_rancher_pipeline_generate, web_service_pipeline, db_service_pipeline\n",
    "\n",
    "app = Flask(__name__)\n",
    "FlaskJSON(app)"
   ]
  },
  {
   "cell_type": "markdown",
   "metadata": {},
   "source": [
    "#### 接受使用者要產生web專案的pipeline請求"
   ]
  },
  {
   "cell_type": "code",
   "execution_count": null,
   "metadata": {},
   "outputs": [],
   "source": [
    "@app.route('/pipeline/web', methods=['POST'])\n",
    "def generate_web_pipeline():\n",
    "    # 取得使用者傳入的資料\n",
    "    data = request.get_json(force=True)\n",
    "    print('user post data:{data}'.format(data=data))\n",
    "    # 取出使用者個別的資料變數\n",
    "    try:\n",
    "        checkmarxEnabled = data['checkmarx']['enabled']\n",
    "        checkmarxVersion = data['checkmarx']['version']\n",
    "        newmanEnabled = data['newman']['enabled']\n",
    "        webType = data['web']['type']\n",
    "    except (KeyError, TypeError, ValueError):\n",
    "        raise JsonError(description='Invalid value.')\n",
    "    web_pipeline_template = web_service_pipeline(checkmarxEnabled, checkmarxVersion, newmanEnabled, webType)\n",
    "    return web_pipeline_template"
   ]
  },
  {
   "cell_type": "markdown",
   "metadata": {
    "execution": {
     "iopub.execute_input": "2020-12-25T07:34:08.258707Z",
     "iopub.status.busy": "2020-12-25T07:34:08.257973Z",
     "iopub.status.idle": "2020-12-25T07:34:08.266032Z",
     "shell.execute_reply": "2020-12-25T07:34:08.263712Z",
     "shell.execute_reply.started": "2020-12-25T07:34:08.258621Z"
    }
   },
   "source": [
    "#### 接受使用者要產生db專案的pipeline請求"
   ]
  },
  {
   "cell_type": "code",
   "execution_count": null,
   "metadata": {},
   "outputs": [],
   "source": [
    "@app.route('/pipeline/db', methods=['POST'])\n",
    "def generate_db_pipeline():\n",
    "    # 傳入使用者的資料\n",
    "    data = request.get_json(force=True)\n",
    "    print('user post data:{data}'.format(data=data))\n",
    "    # 取出使用者個別的資料變數\n",
    "    try:\n",
    "        db_name = data['db']['name']\n",
    "        db_type = data['db']['type']\n",
    "        db_username = data['db']['username']\n",
    "        db_password = data['db']['password']\n",
    "    except (KeyError, TypeError, ValueError):\n",
    "        raise JsonError(description='Invalid value.')\n",
    "    db_pipeline_template = db_service_pipeline(db_name, db_type, db_username, db_password)\n",
    "    return db_pipeline_template"
   ]
  },
  {
   "cell_type": "code",
   "execution_count": null,
   "metadata": {},
   "outputs": [],
   "source": [
    "if __name__ == '__main__':\n",
    "    app.run(host='0.0.0.0', debug=True, port=80)"
   ]
  },
  {
   "cell_type": "code",
   "execution_count": null,
   "metadata": {},
   "outputs": [],
   "source": []
  }
 ],
 "metadata": {
  "kernelspec": {
   "display_name": "Python 3",
   "language": "python",
   "name": "python3"
  },
  "language_info": {
   "codemirror_mode": {
    "name": "ipython",
    "version": 3
   },
   "file_extension": ".py",
   "mimetype": "text/x-python",
   "name": "python",
   "nbconvert_exporter": "python",
   "pygments_lexer": "ipython3",
   "version": "3.8.6"
  }
 },
 "nbformat": 4,
 "nbformat_minor": 4
}
