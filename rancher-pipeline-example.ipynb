{
 "cells": [
  {
   "cell_type": "markdown",
   "metadata": {},
   "source": [
    "## iii-org rancher pipeline data generator example\n",
    "\n",
    "透過服務函式建立完整rancher pipeline資料內容(教學範例)\n",
    "\n",
    "#### 參考\n",
    "* [使用-python-讀取-yaml-檔案-d3f413d7dd6](https://medium.com/bryanyang0528/%E4%BD%BF%E7%94%A8-python-%E8%AE%80%E5%8F%96-yaml-%E6%AA%94%E6%A1%88-d3f413d7dd6)\n",
    "* [yaml.readthedocs](https://yaml.readthedocs.io/en/latest/example.html)"
   ]
  },
  {
   "cell_type": "markdown",
   "metadata": {
    "execution": {
     "iopub.execute_input": "2020-12-17T04:10:21.139202Z",
     "iopub.status.busy": "2020-12-17T04:10:21.138533Z",
     "iopub.status.idle": "2020-12-17T04:10:21.144789Z",
     "shell.execute_reply": "2020-12-17T04:10:21.144128Z",
     "shell.execute_reply.started": "2020-12-17T04:10:21.139121Z"
    }
   },
   "source": [
    "## 引入函式庫"
   ]
  },
  {
   "cell_type": "code",
   "execution_count": 1,
   "metadata": {
    "execution": {
     "iopub.status.idle": "2020-12-17T09:31:58.950146Z",
     "shell.execute_reply": "2020-12-17T09:31:58.949455Z",
     "shell.execute_reply.started": "2020-12-17T09:31:58.897105Z"
    }
   },
   "outputs": [],
   "source": [
    "import yaml\n",
    "import sys\n",
    "import os"
   ]
  },
  {
   "cell_type": "code",
   "execution_count": 2,
   "metadata": {
    "execution": {
     "iopub.execute_input": "2020-12-17T09:31:58.951488Z",
     "iopub.status.busy": "2020-12-17T09:31:58.951276Z",
     "iopub.status.idle": "2020-12-17T09:31:58.955332Z",
     "shell.execute_reply": "2020-12-17T09:31:58.954266Z",
     "shell.execute_reply.started": "2020-12-17T09:31:58.951460Z"
    }
   },
   "outputs": [],
   "source": [
    "## \n",
    "PIPELINE_TEMPLATE_FILE = './stander-rancher-pipeline.yaml'\n",
    "## 部屬環境Config模擬\n",
    "DEVOPS_REGISTRY = os.getenv('DEVOPS_REGISTRY', \"XX.XX.XX.XX:XXXX\")\n",
    "REGISTRY_INSECURE = os.getenv('REGISTRY_INSECURE', \"false\")\n",
    "GIT_HOST = os.getenv('GIT_HOST', \"10.XX.XX.XX\")"
   ]
  },
  {
   "cell_type": "markdown",
   "metadata": {},
   "source": [
    "## 讀取標準範例樣板並顯示樣板"
   ]
  },
  {
   "cell_type": "code",
   "execution_count": 3,
   "metadata": {
    "execution": {
     "iopub.execute_input": "2020-12-17T09:31:58.958839Z",
     "iopub.status.busy": "2020-12-17T09:31:58.958659Z",
     "iopub.status.idle": "2020-12-17T09:31:58.986965Z",
     "shell.execute_reply": "2020-12-17T09:31:58.986406Z",
     "shell.execute_reply.started": "2020-12-17T09:31:58.958817Z"
    }
   },
   "outputs": [
    {
     "name": "stdout",
     "output_type": "stream",
     "text": [
      "stages:\n",
      "- name: Publish User Web image\n",
      "  steps:\n",
      "  - env:\n",
      "      PLUGIN_INSECURE: 'true'\n",
      "    publishImageConfig:\n",
      "      buildContext: .\n",
      "      dockerfilePath: ./Dockerfile\n",
      "      pushRemote: true\n",
      "      registry: 10.50.1.63:5443\n",
      "      tag: app/${CICD_GIT_REPO_NAME}-web:latest\n",
      "- name: Deploy app-web\n",
      "  steps:\n",
      "  - applyAppConfig:\n",
      "      answers:\n",
      "        checkmarx.enabled: false\n",
      "        git.branch: ${CICD_GIT_BRANCH}\n",
      "        git.commitID: ${CICD_GIT_COMMIT}\n",
      "        git.repoName: ${CICD_GIT_REPO_NAME}\n",
      "        git.url: ${CICD_GIT_URL}\n",
      "        newman.enabled: false\n",
      "        web.image: 10.50.1.63:5443/app/${CICD_GIT_REPO_NAME}-web\n",
      "        web.tag: latest\n",
      "        web.type: uwsgi-flask\n",
      "      catalogTemplate: cattle-global-data:iii-dev-charts3-web\n",
      "      name: ${CICD_GIT_REPO_NAME}-${CICD_GIT_BRANCH}-web\n",
      "      targetNamespace: p-v2nzs-pipeline\n",
      "      version: 0.1.0\n",
      "- name: Deploy app-db\n",
      "  steps:\n",
      "  - applyAppConfig:\n",
      "      answers:\n",
      "        db.name: health\n",
      "        db.password: bearisbear\n",
      "        db.type: mysql\n",
      "        db.username: bear\n",
      "        git.branch: ${CICD_GIT_BRANCH}\n",
      "        git.host: 10.50.1.53\n",
      "        git.repoName: ${CICD_GIT_REPO_NAME}\n",
      "      catalogTemplate: cattle-global-data:iii-dev-charts3-db\n",
      "      name: ${CICD_GIT_REPO_NAME}-${CICD_GIT_BRANCH}\n",
      "      targetNamespace: p-v2nzs-pipeline\n",
      "      version: 0.1.0\n"
     ]
    }
   ],
   "source": [
    "with open(PIPELINE_TEMPLATE_FILE, 'r') as stream:\n",
    "    pipeline_template = yaml.load(stream, Loader=yaml.FullLoader)\n",
    "yaml.dump(pipeline_template, sys.stdout)"
   ]
  },
  {
   "cell_type": "markdown",
   "metadata": {
    "execution": {
     "iopub.execute_input": "2020-12-17T06:59:59.743632Z",
     "iopub.status.busy": "2020-12-17T06:59:59.743476Z",
     "iopub.status.idle": "2020-12-17T06:59:59.746044Z",
     "shell.execute_reply": "2020-12-17T06:59:59.745534Z",
     "shell.execute_reply.started": "2020-12-17T06:59:59.743612Z"
    }
   },
   "source": [
    "## 按照部屬環境進行範本環境的修改"
   ]
  },
  {
   "cell_type": "code",
   "execution_count": 4,
   "metadata": {
    "execution": {
     "iopub.execute_input": "2020-12-17T09:31:58.987844Z",
     "iopub.status.busy": "2020-12-17T09:31:58.987675Z",
     "iopub.status.idle": "2020-12-17T09:31:58.992426Z",
     "shell.execute_reply": "2020-12-17T09:31:58.991725Z",
     "shell.execute_reply.started": "2020-12-17T09:31:58.987821Z"
    }
   },
   "outputs": [],
   "source": [
    "def env_rancher_pipeline_generate():\n",
    "    # 讀取範例檔案\n",
    "    global PIPELINE_TEMPLATE_FILE, DEVOPS_REGISTRY, REGISTRY_INSECURE, GIT_HOST\n",
    "    with open(PIPELINE_TEMPLATE_FILE, 'r') as stream:\n",
    "        pipeline_template = yaml.load(stream, Loader=yaml.FullLoader)\n",
    "    temp_pipeline_stages = pipeline_template['stages']\n",
    "    # 修改第一階段 Publish User Web image\n",
    "    temp_pipeline_stages[0]['steps'][0]['publishImageConfig']['registry'] = DEVOPS_REGISTRY\n",
    "    temp_pipeline_stages[0]['steps'][0]['env']['PLUGIN_INSECURE'] = REGISTRY_INSECURE\n",
    "    # 修改第二個階段 \n",
    "    temp_pipeline_stages[1]['steps'][0]['applyAppConfig']['answers']['web.image'] = REGISTRY_INSECURE\n",
    "    return pipeline_template"
   ]
  },
  {
   "cell_type": "code",
   "execution_count": 5,
   "metadata": {
    "execution": {
     "iopub.execute_input": "2020-12-17T09:31:58.993432Z",
     "iopub.status.busy": "2020-12-17T09:31:58.993240Z",
     "iopub.status.idle": "2020-12-17T09:31:59.020767Z",
     "shell.execute_reply": "2020-12-17T09:31:59.020202Z",
     "shell.execute_reply.started": "2020-12-17T09:31:58.993409Z"
    }
   },
   "outputs": [
    {
     "name": "stdout",
     "output_type": "stream",
     "text": [
      "stages:\n",
      "- name: Publish User Web image\n",
      "  steps:\n",
      "  - env:\n",
      "      PLUGIN_INSECURE: 'false'\n",
      "    publishImageConfig:\n",
      "      buildContext: .\n",
      "      dockerfilePath: ./Dockerfile\n",
      "      pushRemote: true\n",
      "      registry: XX.XX.XX.XX:XXXX\n",
      "      tag: app/${CICD_GIT_REPO_NAME}-web:latest\n",
      "- name: Deploy app-web\n",
      "  steps:\n",
      "  - applyAppConfig:\n",
      "      answers:\n",
      "        checkmarx.enabled: false\n",
      "        git.branch: ${CICD_GIT_BRANCH}\n",
      "        git.commitID: ${CICD_GIT_COMMIT}\n",
      "        git.repoName: ${CICD_GIT_REPO_NAME}\n",
      "        git.url: ${CICD_GIT_URL}\n",
      "        newman.enabled: false\n",
      "        web.image: 'false'\n",
      "        web.tag: latest\n",
      "        web.type: uwsgi-flask\n",
      "      catalogTemplate: cattle-global-data:iii-dev-charts3-web\n",
      "      name: ${CICD_GIT_REPO_NAME}-${CICD_GIT_BRANCH}-web\n",
      "      targetNamespace: p-v2nzs-pipeline\n",
      "      version: 0.1.0\n",
      "- name: Deploy app-db\n",
      "  steps:\n",
      "  - applyAppConfig:\n",
      "      answers:\n",
      "        db.name: health\n",
      "        db.password: bearisbear\n",
      "        db.type: mysql\n",
      "        db.username: bear\n",
      "        git.branch: ${CICD_GIT_BRANCH}\n",
      "        git.host: 10.50.1.53\n",
      "        git.repoName: ${CICD_GIT_REPO_NAME}\n",
      "      catalogTemplate: cattle-global-data:iii-dev-charts3-db\n",
      "      name: ${CICD_GIT_REPO_NAME}-${CICD_GIT_BRANCH}\n",
      "      targetNamespace: p-v2nzs-pipeline\n",
      "      version: 0.1.0\n"
     ]
    }
   ],
   "source": [
    "yaml.dump(env_rancher_pipeline_generate(), sys.stdout)"
   ]
  },
  {
   "cell_type": "markdown",
   "metadata": {},
   "source": [
    "## 使用者僅需要前端部屬"
   ]
  },
  {
   "cell_type": "code",
   "execution_count": 6,
   "metadata": {
    "execution": {
     "iopub.execute_input": "2020-12-17T09:31:59.021645Z",
     "iopub.status.busy": "2020-12-17T09:31:59.021476Z",
     "iopub.status.idle": "2020-12-17T09:31:59.024660Z",
     "shell.execute_reply": "2020-12-17T09:31:59.024149Z",
     "shell.execute_reply.started": "2020-12-17T09:31:59.021622Z"
    }
   },
   "outputs": [],
   "source": [
    "def web_service_pipeline():\n",
    "    pipeline_template = env_rancher_pipeline_generate()\n",
    "    temp_pipeline_stages = pipeline_template['stages']\n",
    "    # 把最後面的階段移除\n",
    "    temp_pipeline_stages.pop(2)\n",
    "    return yaml.dump(pipeline_template, sys.stdout)"
   ]
  },
  {
   "cell_type": "code",
   "execution_count": 7,
   "metadata": {
    "execution": {
     "iopub.execute_input": "2020-12-17T09:31:59.025550Z",
     "iopub.status.busy": "2020-12-17T09:31:59.025378Z",
     "iopub.status.idle": "2020-12-17T09:31:59.045267Z",
     "shell.execute_reply": "2020-12-17T09:31:59.044781Z",
     "shell.execute_reply.started": "2020-12-17T09:31:59.025523Z"
    }
   },
   "outputs": [
    {
     "name": "stdout",
     "output_type": "stream",
     "text": [
      "stages:\n",
      "- name: Publish User Web image\n",
      "  steps:\n",
      "  - env:\n",
      "      PLUGIN_INSECURE: 'false'\n",
      "    publishImageConfig:\n",
      "      buildContext: .\n",
      "      dockerfilePath: ./Dockerfile\n",
      "      pushRemote: true\n",
      "      registry: XX.XX.XX.XX:XXXX\n",
      "      tag: app/${CICD_GIT_REPO_NAME}-web:latest\n",
      "- name: Deploy app-web\n",
      "  steps:\n",
      "  - applyAppConfig:\n",
      "      answers:\n",
      "        checkmarx.enabled: false\n",
      "        git.branch: ${CICD_GIT_BRANCH}\n",
      "        git.commitID: ${CICD_GIT_COMMIT}\n",
      "        git.repoName: ${CICD_GIT_REPO_NAME}\n",
      "        git.url: ${CICD_GIT_URL}\n",
      "        newman.enabled: false\n",
      "        web.image: 'false'\n",
      "        web.tag: latest\n",
      "        web.type: uwsgi-flask\n",
      "      catalogTemplate: cattle-global-data:iii-dev-charts3-web\n",
      "      name: ${CICD_GIT_REPO_NAME}-${CICD_GIT_BRANCH}-web\n",
      "      targetNamespace: p-v2nzs-pipeline\n",
      "      version: 0.1.0\n"
     ]
    }
   ],
   "source": [
    "web_service_pipeline()"
   ]
  },
  {
   "cell_type": "markdown",
   "metadata": {},
   "source": [
    "## 使用者僅需要資料庫"
   ]
  },
  {
   "cell_type": "code",
   "execution_count": 8,
   "metadata": {
    "execution": {
     "iopub.execute_input": "2020-12-17T09:31:59.046720Z",
     "iopub.status.busy": "2020-12-17T09:31:59.046555Z",
     "iopub.status.idle": "2020-12-17T09:31:59.051393Z",
     "shell.execute_reply": "2020-12-17T09:31:59.050800Z",
     "shell.execute_reply.started": "2020-12-17T09:31:59.046698Z"
    }
   },
   "outputs": [],
   "source": [
    "def db_service_pipeline():\n",
    "    pipeline_template = env_rancher_pipeline_generate()\n",
    "    temp_pipeline_stages = pipeline_template['stages']\n",
    "    # 把最前面的兩個階段移除\n",
    "    temp_pipeline_stages.pop(0)\n",
    "    temp_pipeline_stages.pop(0)\n",
    "    return yaml.dump(pipeline_template, sys.stdout)"
   ]
  },
  {
   "cell_type": "code",
   "execution_count": 9,
   "metadata": {
    "execution": {
     "iopub.execute_input": "2020-12-17T09:31:59.052476Z",
     "iopub.status.busy": "2020-12-17T09:31:59.052301Z",
     "iopub.status.idle": "2020-12-17T09:31:59.068587Z",
     "shell.execute_reply": "2020-12-17T09:31:59.068027Z",
     "shell.execute_reply.started": "2020-12-17T09:31:59.052447Z"
    }
   },
   "outputs": [
    {
     "name": "stdout",
     "output_type": "stream",
     "text": [
      "stages:\n",
      "- name: Deploy app-db\n",
      "  steps:\n",
      "  - applyAppConfig:\n",
      "      answers:\n",
      "        db.name: health\n",
      "        db.password: bearisbear\n",
      "        db.type: mysql\n",
      "        db.username: bear\n",
      "        git.branch: ${CICD_GIT_BRANCH}\n",
      "        git.host: 10.50.1.53\n",
      "        git.repoName: ${CICD_GIT_REPO_NAME}\n",
      "      catalogTemplate: cattle-global-data:iii-dev-charts3-db\n",
      "      name: ${CICD_GIT_REPO_NAME}-${CICD_GIT_BRANCH}\n",
      "      targetNamespace: p-v2nzs-pipeline\n",
      "      version: 0.1.0\n"
     ]
    }
   ],
   "source": [
    "db_service_pipeline()"
   ]
  }
 ],
 "metadata": {
  "kernelspec": {
   "display_name": "Python 3",
   "language": "python",
   "name": "python3"
  },
  "language_info": {
   "codemirror_mode": {
    "name": "ipython",
    "version": 3
   },
   "file_extension": ".py",
   "mimetype": "text/x-python",
   "name": "python",
   "nbconvert_exporter": "python",
   "pygments_lexer": "ipython3",
   "version": "3.8.6"
  }
 },
 "nbformat": 4,
 "nbformat_minor": 4
}
