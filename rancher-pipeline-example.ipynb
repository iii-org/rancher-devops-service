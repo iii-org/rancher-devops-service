{
 "cells": [
  {
   "cell_type": "markdown",
   "metadata": {},
   "source": [
    "## iii-org rancher pipeline data generator example\n",
    "\n",
    "透過服務函式建立完整rancher pipeline資料內容(教學範例)\n",
    "\n",
    "#### 參考\n",
    "* [使用-python-讀取-yaml-檔案-d3f413d7dd6](https://medium.com/bryanyang0528/%E4%BD%BF%E7%94%A8-python-%E8%AE%80%E5%8F%96-yaml-%E6%AA%94%E6%A1%88-d3f413d7dd6)\n",
    "* [yaml.readthedocs](https://yaml.readthedocs.io/en/latest/example.html)"
   ]
  },
  {
   "cell_type": "markdown",
   "metadata": {
    "execution": {
     "iopub.execute_input": "2020-12-17T04:10:21.139202Z",
     "iopub.status.busy": "2020-12-17T04:10:21.138533Z",
     "iopub.status.idle": "2020-12-17T04:10:21.144789Z",
     "shell.execute_reply": "2020-12-17T04:10:21.144128Z",
     "shell.execute_reply.started": "2020-12-17T04:10:21.139121Z"
    }
   },
   "source": [
    "## 引入函式庫"
   ]
  },
  {
   "cell_type": "code",
   "execution_count": null,
   "metadata": {},
   "outputs": [],
   "source": [
    "import yaml\n",
    "import sys\n",
    "import os"
   ]
  },
  {
   "cell_type": "code",
   "execution_count": null,
   "metadata": {},
   "outputs": [],
   "source": [
    "## \n",
    "PIPELINE_TEMPLATE_FILE = './stander-rancher-pipeline.yaml'\n",
    "## 部屬環境Config模擬\n",
    "DEVOPS_REGISTRY = os.getenv('DEVOPS_REGISTRY', \"XX.XX.XX.XX:XXXX\")\n",
    "REGISTRY_INSECURE = os.getenv('REGISTRY_INSECURE', \"false\")\n",
    "GIT_HOST = os.getenv('GIT_HOST', \"10.XX.XX.XX\")"
   ]
  },
  {
   "cell_type": "markdown",
   "metadata": {},
   "source": [
    "## 讀取標準範例樣板並顯示樣板"
   ]
  },
  {
   "cell_type": "code",
   "execution_count": null,
   "metadata": {},
   "outputs": [],
   "source": [
    "with open(PIPELINE_TEMPLATE_FILE, 'r') as stream:\n",
    "    pipeline_template = yaml.load(stream, Loader=yaml.FullLoader)\n",
    "yaml.dump(pipeline_template, sys.stdout)"
   ]
  },
  {
   "cell_type": "markdown",
   "metadata": {
    "execution": {
     "iopub.execute_input": "2020-12-17T06:59:59.743632Z",
     "iopub.status.busy": "2020-12-17T06:59:59.743476Z",
     "iopub.status.idle": "2020-12-17T06:59:59.746044Z",
     "shell.execute_reply": "2020-12-17T06:59:59.745534Z",
     "shell.execute_reply.started": "2020-12-17T06:59:59.743612Z"
    }
   },
   "source": [
    "## 按照部屬環境進行範本環境的修改"
   ]
  },
  {
   "cell_type": "code",
   "execution_count": null,
   "metadata": {},
   "outputs": [],
   "source": [
    "def env_rancher_pipeline_generate(PIPELINE_TEMPLATE_FILE, DEVOPS_REGISTRY, REGISTRY_INSECURE, GIT_HOST):\n",
    "    # 讀取範例檔案 \n",
    "    with open(PIPELINE_TEMPLATE_FILE, 'r') as stream:\n",
    "        pipeline_template = yaml.load(stream, Loader=yaml.FullLoader)\n",
    "    temp_pipeline_stages = pipeline_template['stages']\n",
    "    # 修改第一階段 Publish User Web image\n",
    "    temp_pipeline_stages[0]['steps'][0]['publishImageConfig']['registry'] = DEVOPS_REGISTRY\n",
    "    temp_pipeline_stages[0]['steps'][0]['env']['PLUGIN_INSECURE'] = REGISTRY_INSECURE\n",
    "    # 修改第三個階段 \n",
    "    temp_pipeline_stages[2]['steps'][0]['applyAppConfig']['answers']['git.host'] = GIT_HOST\n",
    "    return pipeline_template"
   ]
  },
  {
   "cell_type": "code",
   "execution_count": null,
   "metadata": {},
   "outputs": [],
   "source": [
    "yaml.dump(env_rancher_pipeline_generate(PIPELINE_TEMPLATE_FILE, DEVOPS_REGISTRY, REGISTRY_INSECURE, GIT_HOST), sys.stdout)"
   ]
  },
  {
   "cell_type": "markdown",
   "metadata": {},
   "source": [
    "## (單一專案web)使用者僅需要前端部屬\n",
    "\n",
    "* `checkmarxEnabled`: 是否啟動checkmarx\n",
    "* `checkmarxVersion`: checkmarx版本\n",
    "* `newmanEnabled`: 是否啟動newman\n",
    "* `webImage`: 鏡像名稱\n",
    "* `webTag`: 鏡像tag\n",
    "* `webType`: 部屬web的type"
   ]
  },
  {
   "cell_type": "code",
   "execution_count": null,
   "metadata": {},
   "outputs": [],
   "source": [
    "def web_service_pipeline(checkmarxEnabled, checkmarxVersion, newmanEnabled, webType):\n",
    "    global PIPELINE_TEMPLATE_FILE, DEVOPS_REGISTRY, REGISTRY_INSECURE, GIT_HOST\n",
    "    pipeline_template = env_rancher_pipeline_generate(PIPELINE_TEMPLATE_FILE, DEVOPS_REGISTRY, REGISTRY_INSECURE, GIT_HOST)\n",
    "    temp_pipeline_stages = pipeline_template['stages']\n",
    "    # 把最後面的階段移除就會變成結果\n",
    "    temp_pipeline_stages.pop(2)\n",
    "    # 將使用者參數帶入\n",
    "    app_web_answers = temp_pipeline_stages[1]['steps'][0]['applyAppConfig']['answers']\n",
    "    app_web_answers['checkmarx.enabled'] = checkmarxEnabled\n",
    "    app_web_answers['newman.enabled'] = newmanEnabled\n",
    "    app_web_answers['web.type'] = webType\n",
    "    return yaml.dump(pipeline_template, sys.stdout)"
   ]
  },
  {
   "cell_type": "markdown",
   "metadata": {},
   "source": [
    "## (example1) 使用者僅需要前端部屬"
   ]
  },
  {
   "cell_type": "code",
   "execution_count": null,
   "metadata": {},
   "outputs": [],
   "source": [
    "web_service_pipeline(True, \"0.9.2\", False, 'php')"
   ]
  },
  {
   "cell_type": "markdown",
   "metadata": {},
   "source": [
    "## (單一專案db)使用者僅需要資料庫"
   ]
  },
  {
   "cell_type": "code",
   "execution_count": 8,
   "metadata": {
    "execution": {
     "iopub.execute_input": "2020-12-23T08:32:30.570377Z",
     "iopub.status.busy": "2020-12-23T08:32:30.570180Z",
     "iopub.status.idle": "2020-12-23T08:32:30.574674Z",
     "shell.execute_reply": "2020-12-23T08:32:30.574043Z",
     "shell.execute_reply.started": "2020-12-23T08:32:30.570346Z"
    }
   },
   "outputs": [],
   "source": [
    "def db_service_pipeline(db_name, db_type, db_username, db_password):\n",
    "    global PIPELINE_TEMPLATE_FILE, DEVOPS_REGISTRY, REGISTRY_INSECURE, GIT_HOST\n",
    "    pipeline_template = env_rancher_pipeline_generate(PIPELINE_TEMPLATE_FILE, DEVOPS_REGISTRY, REGISTRY_INSECURE, GIT_HOST)\n",
    "    temp_pipeline_stages = pipeline_template['stages']\n",
    "    # 把最前面的兩個階段移除\n",
    "    temp_pipeline_stages.pop(0)\n",
    "    temp_pipeline_stages.pop(0)\n",
    "    # 將使用者參數帶入\n",
    "    app_web_answers = temp_pipeline_stages[0]['steps'][0]['applyAppConfig']['answers']\n",
    "    app_web_answers['db.name'] = db_name\n",
    "    app_web_answers['db.type'] = db_type\n",
    "    app_web_answers['db.username'] = db_username\n",
    "    app_web_answers['db.password'] = db_password\n",
    "    return yaml.dump(pipeline_template, sys.stdout)"
   ]
  },
  {
   "cell_type": "code",
   "execution_count": 9,
   "metadata": {
    "execution": {
     "iopub.execute_input": "2020-12-23T08:32:30.575718Z",
     "iopub.status.busy": "2020-12-23T08:32:30.575539Z",
     "iopub.status.idle": "2020-12-23T08:32:30.592641Z",
     "shell.execute_reply": "2020-12-23T08:32:30.592077Z",
     "shell.execute_reply.started": "2020-12-23T08:32:30.575695Z"
    }
   },
   "outputs": [
    {
     "name": "stdout",
     "output_type": "stream",
     "text": [
      "stages:\n",
      "- name: Deploy app-db\n",
      "  steps:\n",
      "  - applyAppConfig:\n",
      "      answers:\n",
      "        db.name: bearDB\n",
      "        db.password: bearpassword\n",
      "        db.type: mysql\n",
      "        db.username: bearuser\n",
      "        git.branch: ${CICD_GIT_BRANCH}\n",
      "        git.host: 10.XX.XX.XX\n",
      "        git.repoName: ${CICD_GIT_REPO_NAME}\n",
      "      catalogTemplate: cattle-global-data:iii-dev-charts3-db\n",
      "      name: ${CICD_GIT_REPO_NAME}-${CICD_GIT_BRANCH}\n",
      "      targetNamespace: ${CICD_GIT_REPO_NAME}\n",
      "      version: 0.1.0\n"
     ]
    }
   ],
   "source": [
    "db_service_pipeline('bearDB', 'mysql', 'bearuser', 'bearpassword')"
   ]
  },
  {
   "cell_type": "code",
   "execution_count": null,
   "metadata": {},
   "outputs": [],
   "source": []
  }
 ],
 "metadata": {
  "kernelspec": {
   "display_name": "Python 3",
   "language": "python",
   "name": "python3"
  },
  "language_info": {
   "codemirror_mode": {
    "name": "ipython",
    "version": 3
   },
   "file_extension": ".py",
   "mimetype": "text/x-python",
   "name": "python",
   "nbconvert_exporter": "python",
   "pygments_lexer": "ipython3",
   "version": "3.8.6"
  }
 },
 "nbformat": 4,
 "nbformat_minor": 4
}
