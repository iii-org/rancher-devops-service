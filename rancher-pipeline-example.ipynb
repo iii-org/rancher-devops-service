{
 "cells": [
  {
   "cell_type": "markdown",
   "metadata": {},
   "source": [
    "## iii-org rancher pipeline data generator example\n",
    "\n",
    "透過服務函式建立完整rancher pipeline資料內容(教學範例)\n",
    "\n",
    "#### 參考\n",
    "* [使用-python-讀取-yaml-檔案-d3f413d7dd6](https://medium.com/bryanyang0528/%E4%BD%BF%E7%94%A8-python-%E8%AE%80%E5%8F%96-yaml-%E6%AA%94%E6%A1%88-d3f413d7dd6)\n",
    "* [yaml.readthedocs](https://yaml.readthedocs.io/en/latest/example.html)"
   ]
  },
  {
   "cell_type": "markdown",
   "metadata": {
    "execution": {
     "iopub.execute_input": "2020-12-17T04:10:21.139202Z",
     "iopub.status.busy": "2020-12-17T04:10:21.138533Z",
     "iopub.status.idle": "2020-12-17T04:10:21.144789Z",
     "shell.execute_reply": "2020-12-17T04:10:21.144128Z",
     "shell.execute_reply.started": "2020-12-17T04:10:21.139121Z"
    }
   },
   "source": [
    "## 引入函式庫"
   ]
  },
  {
   "cell_type": "code",
   "execution_count": 10,
   "metadata": {
    "execution": {
     "iopub.execute_input": "2020-12-17T06:46:02.087067Z",
     "iopub.status.busy": "2020-12-17T06:46:02.086374Z",
     "iopub.status.idle": "2020-12-17T06:46:02.095275Z",
     "shell.execute_reply": "2020-12-17T06:46:02.093069Z",
     "shell.execute_reply.started": "2020-12-17T06:46:02.086984Z"
    }
   },
   "outputs": [],
   "source": [
    "import yaml\n",
    "import sys\n",
    "import os"
   ]
  },
  {
   "cell_type": "code",
   "execution_count": 9,
   "metadata": {
    "execution": {
     "iopub.execute_input": "2020-12-17T06:34:34.770528Z",
     "iopub.status.busy": "2020-12-17T06:34:34.769803Z",
     "iopub.status.idle": "2020-12-17T06:34:34.778409Z",
     "shell.execute_reply": "2020-12-17T06:34:34.776030Z",
     "shell.execute_reply.started": "2020-12-17T06:34:34.770444Z"
    }
   },
   "outputs": [],
   "source": [
    "## 部屬環境Config模擬\n",
    "* `DEVOPS_REGISTRY`=\"XX.XX.XX.XX:XXXX\"\n",
    "* ``"
   ]
  },
  {
   "cell_type": "code",
   "execution_count": null,
   "metadata": {},
   "outputs": [],
   "source": []
  },
  {
   "cell_type": "markdown",
   "metadata": {},
   "source": [
    "## 讀取標準範例樣板並顯示樣板"
   ]
  },
  {
   "cell_type": "code",
   "execution_count": 11,
   "metadata": {
    "execution": {
     "iopub.execute_input": "2020-12-17T06:47:00.137960Z",
     "iopub.status.busy": "2020-12-17T06:47:00.137284Z",
     "iopub.status.idle": "2020-12-17T06:47:00.164462Z",
     "shell.execute_reply": "2020-12-17T06:47:00.163908Z",
     "shell.execute_reply.started": "2020-12-17T06:47:00.137877Z"
    }
   },
   "outputs": [
    {
     "name": "stdout",
     "output_type": "stream",
     "text": [
      "stages:\n",
      "- name: Publish User Web image\n",
      "  steps:\n",
      "  - env:\n",
      "      PLUGIN_INSECURE: 'true'\n",
      "    publishImageConfig:\n",
      "      buildContext: .\n",
      "      dockerfilePath: ./Dockerfile\n",
      "      pushRemote: true\n",
      "      registry: 10.50.1.63:5443\n",
      "      tag: app/${CICD_GIT_REPO_NAME}-web:latest\n",
      "- name: Deploy app-web\n",
      "  steps:\n",
      "  - applyAppConfig:\n",
      "      answers:\n",
      "        checkmarx.enabled: false\n",
      "        git.branch: ${CICD_GIT_BRANCH}\n",
      "        git.commitID: ${CICD_GIT_COMMIT}\n",
      "        git.repoName: ${CICD_GIT_REPO_NAME}\n",
      "        git.url: ${CICD_GIT_URL}\n",
      "        newman.enabled: false\n",
      "        web.image: 10.50.1.63:5443/app/${CICD_GIT_REPO_NAME}-web\n",
      "        web.tag: latest\n",
      "        web.type: uwsgi-flask\n",
      "      catalogTemplate: cattle-global-data:iii-dev-charts3-web\n",
      "      name: ${CICD_GIT_REPO_NAME}-${CICD_GIT_BRANCH}-web\n",
      "      targetNamespace: p-v2nzs-pipeline\n",
      "      version: 0.1.0\n",
      "- name: Deploy app-db\n",
      "  steps:\n",
      "  - applyAppConfig:\n",
      "      answers:\n",
      "        db.name: health\n",
      "        db.password: bearisbear\n",
      "        db.type: mysql\n",
      "        db.username: bear\n",
      "        git.branch: ${CICD_GIT_BRANCH}\n",
      "        git.host: 10.50.1.53\n",
      "        git.repoName: ${CICD_GIT_REPO_NAME}\n",
      "      catalogTemplate: cattle-global-data:iii-dev-charts3-db\n",
      "      name: ${CICD_GIT_REPO_NAME}-${CICD_GIT_BRANCH}\n",
      "      targetNamespace: p-v2nzs-pipeline\n",
      "      version: 0.1.0\n"
     ]
    }
   ],
   "source": [
    "with open('./stander-rancher-pipeline.yaml', 'r') as stream:\n",
    "    pipeline_template = yaml.load(stream, Loader=yaml.FullLoader)\n",
    "yaml.dump(pipeline_template, sys.stdout)"
   ]
  },
  {
   "cell_type": "code",
   "execution_count": null,
   "metadata": {},
   "outputs": [],
   "source": [
    "## 按照部屬環境進行範本環境的修改"
   ]
  },
  {
   "cell_type": "code",
   "execution_count": null,
   "metadata": {},
   "outputs": [],
   "source": [
    "def env_rancher_pipeline_generate(template_file_path)\n",
    "    # 讀取範例檔案\n",
    "    with open(template_file_path, 'r') as stream:\n",
    "        pipeline_template = yaml.load(stream, Loader=yaml.FullLoader)\n",
    "    \n",
    "    "
   ]
  },
  {
   "cell_type": "code",
   "execution_count": null,
   "metadata": {},
   "outputs": [],
   "source": [
    "env_rancher_pipeline_generate('./stander-rancher-pipeline.yaml', )"
   ]
  },
  {
   "cell_type": "markdown",
   "metadata": {},
   "source": [
    "## 使用者僅需要前端部屬"
   ]
  },
  {
   "cell_type": "code",
   "execution_count": 4,
   "metadata": {
    "execution": {
     "iopub.execute_input": "2020-12-17T06:29:40.124474Z",
     "iopub.status.busy": "2020-12-17T06:29:40.124310Z",
     "iopub.status.idle": "2020-12-17T06:29:40.129994Z",
     "shell.execute_reply": "2020-12-17T06:29:40.129473Z",
     "shell.execute_reply.started": "2020-12-17T06:29:40.124453Z"
    }
   },
   "outputs": [],
   "source": [
    "def web_service_pipeline(registry_ip, registry_is_secure):\n",
    "    with open('./stander-rancher-pipeline.yaml', 'r') as stream:\n",
    "        pipeline_template = yaml.load(stream, Loader=yaml.FullLoader)\n",
    "    temp_pipeline_stages = pipeline_template['stages']\n",
    "    # 把最後面的階段移除\n",
    "    temp_pipeline_stages.pop(2)\n",
    "    # (開發環境: registry IP)\n",
    "    temp_pipeline_stages[0]['steps'][0]['publishImageConfig']['registry'] = registry_ip\n",
    "    return yaml.dump(pipeline_template, sys.stdout)"
   ]
  },
  {
   "cell_type": "code",
   "execution_count": 5,
   "metadata": {
    "execution": {
     "iopub.execute_input": "2020-12-17T06:29:40.130854Z",
     "iopub.status.busy": "2020-12-17T06:29:40.130694Z",
     "iopub.status.idle": "2020-12-17T06:29:40.150623Z",
     "shell.execute_reply": "2020-12-17T06:29:40.150121Z",
     "shell.execute_reply.started": "2020-12-17T06:29:40.130833Z"
    }
   },
   "outputs": [
    {
     "name": "stdout",
     "output_type": "stream",
     "text": [
      "stages:\n",
      "- name: Publish User Web image\n",
      "  steps:\n",
      "  - env:\n",
      "      PLUGIN_INSECURE: 'true'\n",
      "    publishImageConfig:\n",
      "      buildContext: .\n",
      "      dockerfilePath: ./Dockerfile\n",
      "      pushRemote: true\n",
      "      registry: 10.22.22.22\n",
      "      tag: app/${CICD_GIT_REPO_NAME}-web:latest\n",
      "- name: Deploy app-web\n",
      "  steps:\n",
      "  - applyAppConfig:\n",
      "      answers:\n",
      "        checkmarx.enabled: false\n",
      "        git.branch: ${CICD_GIT_BRANCH}\n",
      "        git.commitID: ${CICD_GIT_COMMIT}\n",
      "        git.repoName: ${CICD_GIT_REPO_NAME}\n",
      "        git.url: ${CICD_GIT_URL}\n",
      "        newman.enabled: false\n",
      "        web.image: 10.50.1.63:5443/app/${CICD_GIT_REPO_NAME}-web\n",
      "        web.tag: latest\n",
      "        web.type: uwsgi-flask\n",
      "      catalogTemplate: cattle-global-data:iii-dev-charts3-web\n",
      "      name: ${CICD_GIT_REPO_NAME}-${CICD_GIT_BRANCH}-web\n",
      "      targetNamespace: p-v2nzs-pipeline\n",
      "      version: 0.1.0\n"
     ]
    }
   ],
   "source": [
    "web_service_pipeline(\"10.22.22.22\")"
   ]
  },
  {
   "cell_type": "markdown",
   "metadata": {},
   "source": [
    "## 使用者僅需要資料庫"
   ]
  },
  {
   "cell_type": "code",
   "execution_count": 6,
   "metadata": {
    "execution": {
     "iopub.execute_input": "2020-12-17T06:29:40.151556Z",
     "iopub.status.busy": "2020-12-17T06:29:40.151375Z",
     "iopub.status.idle": "2020-12-17T06:29:40.154964Z",
     "shell.execute_reply": "2020-12-17T06:29:40.154378Z",
     "shell.execute_reply.started": "2020-12-17T06:29:40.151534Z"
    }
   },
   "outputs": [],
   "source": [
    "def db_service_pipeline():\n",
    "    with open('./stander-rancher-pipeline.yaml', 'r') as stream:\n",
    "        pipeline_template = yaml.load(stream, Loader=yaml.FullLoader)\n",
    "    temp_pipeline_stages = pipeline_template['stages']\n",
    "    # 把最前面的兩個階段移除\n",
    "    temp_pipeline_stages.pop(0)\n",
    "    temp_pipeline_stages.pop(0)\n",
    "    return yaml.dump(pipeline_template, sys.stdout)"
   ]
  },
  {
   "cell_type": "code",
   "execution_count": 7,
   "metadata": {
    "execution": {
     "iopub.execute_input": "2020-12-17T06:29:40.155891Z",
     "iopub.status.busy": "2020-12-17T06:29:40.155724Z",
     "iopub.status.idle": "2020-12-17T06:29:40.171365Z",
     "shell.execute_reply": "2020-12-17T06:29:40.170812Z",
     "shell.execute_reply.started": "2020-12-17T06:29:40.155869Z"
    }
   },
   "outputs": [
    {
     "name": "stdout",
     "output_type": "stream",
     "text": [
      "stages:\n",
      "- name: Deploy app-db\n",
      "  steps:\n",
      "  - applyAppConfig:\n",
      "      answers:\n",
      "        db.name: health\n",
      "        db.password: bearisbear\n",
      "        db.type: mysql\n",
      "        db.username: bear\n",
      "        git.branch: ${CICD_GIT_BRANCH}\n",
      "        git.host: 10.50.1.53\n",
      "        git.repoName: ${CICD_GIT_REPO_NAME}\n",
      "      catalogTemplate: cattle-global-data:iii-dev-charts3-db\n",
      "      name: ${CICD_GIT_REPO_NAME}-${CICD_GIT_BRANCH}\n",
      "      targetNamespace: p-v2nzs-pipeline\n",
      "      version: 0.1.0\n"
     ]
    }
   ],
   "source": [
    "db_service_pipeline()"
   ]
  },
  {
   "cell_type": "code",
   "execution_count": 8,
   "metadata": {
    "execution": {
     "iopub.execute_input": "2020-12-17T06:29:40.172255Z",
     "iopub.status.busy": "2020-12-17T06:29:40.172089Z",
     "iopub.status.idle": "2020-12-17T06:29:40.217163Z",
     "shell.execute_reply": "2020-12-17T06:29:40.216443Z",
     "shell.execute_reply.started": "2020-12-17T06:29:40.172233Z"
    }
   },
   "outputs": [
    {
     "ename": "ModuleNotFoundError",
     "evalue": "No module named 'pyyaml'",
     "output_type": "error",
     "traceback": [
      "\u001b[0;31m---------------------------------------------------------------------------\u001b[0m",
      "\u001b[0;31mModuleNotFoundError\u001b[0m                       Traceback (most recent call last)",
      "\u001b[0;32m<ipython-input-8-06d0b6aee234>\u001b[0m in \u001b[0;36m<module>\u001b[0;34m\u001b[0m\n\u001b[0;32m----> 1\u001b[0;31m \u001b[0;32mimport\u001b[0m \u001b[0mpyyaml\u001b[0m\u001b[0;34m\u001b[0m\u001b[0;34m\u001b[0m\u001b[0m\n\u001b[0m",
      "\u001b[0;31mModuleNotFoundError\u001b[0m: No module named 'pyyaml'"
     ]
    }
   ],
   "source": [
    "import pyyaml"
   ]
  },
  {
   "cell_type": "code",
   "execution_count": null,
   "metadata": {},
   "outputs": [],
   "source": []
  }
 ],
 "metadata": {
  "kernelspec": {
   "display_name": "Python 3",
   "language": "python",
   "name": "python3"
  },
  "language_info": {
   "codemirror_mode": {
    "name": "ipython",
    "version": 3
   },
   "file_extension": ".py",
   "mimetype": "text/x-python",
   "name": "python",
   "nbconvert_exporter": "python",
   "pygments_lexer": "ipython3",
   "version": "3.8.6"
  }
 },
 "nbformat": 4,
 "nbformat_minor": 4
}
