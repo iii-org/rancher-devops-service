{
 "cells": [
  {
   "cell_type": "markdown",
   "metadata": {},
   "source": [
    "## iii-org rancher pipeline data generator example\n",
    "\n",
    "透過服務函式建立完整rancher pipeline資料內容(教學範例)\n",
    "\n",
    "#### 參考\n",
    "* [使用-python-讀取-yaml-檔案-d3f413d7dd6](https://medium.com/bryanyang0528/%E4%BD%BF%E7%94%A8-python-%E8%AE%80%E5%8F%96-yaml-%E6%AA%94%E6%A1%88-d3f413d7dd6)\n",
    "* [yaml.readthedocs](https://yaml.readthedocs.io/en/latest/example.html)"
   ]
  },
  {
   "cell_type": "markdown",
   "metadata": {
    "execution": {
     "iopub.execute_input": "2020-12-17T04:10:21.139202Z",
     "iopub.status.busy": "2020-12-17T04:10:21.138533Z",
     "iopub.status.idle": "2020-12-17T04:10:21.144789Z",
     "shell.execute_reply": "2020-12-17T04:10:21.144128Z",
     "shell.execute_reply.started": "2020-12-17T04:10:21.139121Z"
    }
   },
   "source": [
    "## 引入函式庫"
   ]
  },
  {
   "cell_type": "code",
   "execution_count": null,
   "metadata": {},
   "outputs": [],
   "source": [
    "import yaml\n",
    "import sys\n",
    "import os"
   ]
  },
  {
   "cell_type": "code",
   "execution_count": 6,
   "metadata": {
    "execution": {
     "iopub.execute_input": "2020-12-17T07:01:21.664675Z",
     "iopub.status.busy": "2020-12-17T07:01:21.664022Z",
     "iopub.status.idle": "2020-12-17T07:01:21.697954Z",
     "shell.execute_reply": "2020-12-17T07:01:21.696934Z",
     "shell.execute_reply.started": "2020-12-17T07:01:21.664595Z"
    }
   },
   "outputs": [
    {
     "data": {
      "text/plain": [
       "'XX.XX.XX.XX:XXXX'"
      ]
     },
     "execution_count": 6,
     "metadata": {},
     "output_type": "execute_result"
    }
   ],
   "source": [
    "## \n",
    "PIPELINE_TEMPLATE_FILE = './stander-rancher-pipeline.yaml'\n",
    "## 部屬環境Config模擬\n",
    "os.getenv('DEVOPS_REGISTRY', \"XX.XX.XX.XX:XXXX\")"
   ]
  },
  {
   "cell_type": "markdown",
   "metadata": {},
   "source": [
    "## 讀取標準範例樣板並顯示樣板"
   ]
  },
  {
   "cell_type": "code",
   "execution_count": 3,
   "metadata": {
    "execution": {
     "iopub.status.idle": "2020-12-17T06:59:59.742541Z",
     "shell.execute_reply": "2020-12-17T06:59:59.742047Z",
     "shell.execute_reply.started": "2020-12-17T06:59:59.718766Z"
    }
   },
   "outputs": [
    {
     "name": "stdout",
     "output_type": "stream",
     "text": [
      "stages:\n",
      "- name: Publish User Web image\n",
      "  steps:\n",
      "  - env:\n",
      "      PLUGIN_INSECURE: 'true'\n",
      "    publishImageConfig:\n",
      "      buildContext: .\n",
      "      dockerfilePath: ./Dockerfile\n",
      "      pushRemote: true\n",
      "      registry: 10.50.1.63:5443\n",
      "      tag: app/${CICD_GIT_REPO_NAME}-web:latest\n",
      "- name: Deploy app-web\n",
      "  steps:\n",
      "  - applyAppConfig:\n",
      "      answers:\n",
      "        checkmarx.enabled: false\n",
      "        git.branch: ${CICD_GIT_BRANCH}\n",
      "        git.commitID: ${CICD_GIT_COMMIT}\n",
      "        git.repoName: ${CICD_GIT_REPO_NAME}\n",
      "        git.url: ${CICD_GIT_URL}\n",
      "        newman.enabled: false\n",
      "        web.image: 10.50.1.63:5443/app/${CICD_GIT_REPO_NAME}-web\n",
      "        web.tag: latest\n",
      "        web.type: uwsgi-flask\n",
      "      catalogTemplate: cattle-global-data:iii-dev-charts3-web\n",
      "      name: ${CICD_GIT_REPO_NAME}-${CICD_GIT_BRANCH}-web\n",
      "      targetNamespace: p-v2nzs-pipeline\n",
      "      version: 0.1.0\n",
      "- name: Deploy app-db\n",
      "  steps:\n",
      "  - applyAppConfig:\n",
      "      answers:\n",
      "        db.name: health\n",
      "        db.password: bearisbear\n",
      "        db.type: mysql\n",
      "        db.username: bear\n",
      "        git.branch: ${CICD_GIT_BRANCH}\n",
      "        git.host: 10.50.1.53\n",
      "        git.repoName: ${CICD_GIT_REPO_NAME}\n",
      "      catalogTemplate: cattle-global-data:iii-dev-charts3-db\n",
      "      name: ${CICD_GIT_REPO_NAME}-${CICD_GIT_BRANCH}\n",
      "      targetNamespace: p-v2nzs-pipeline\n",
      "      version: 0.1.0\n"
     ]
    }
   ],
   "source": [
    "with open(PIPELINE_TEMPLATE_FILE, 'r') as stream:\n",
    "    pipeline_template = yaml.load(stream, Loader=yaml.FullLoader)\n",
    "yaml.dump(pipeline_template, sys.stdout)"
   ]
  },
  {
   "cell_type": "markdown",
   "metadata": {
    "execution": {
     "iopub.execute_input": "2020-12-17T06:59:59.743632Z",
     "iopub.status.busy": "2020-12-17T06:59:59.743476Z",
     "iopub.status.idle": "2020-12-17T06:59:59.746044Z",
     "shell.execute_reply": "2020-12-17T06:59:59.745534Z",
     "shell.execute_reply.started": "2020-12-17T06:59:59.743612Z"
    }
   },
   "source": [
    "## 按照部屬環境進行範本環境的修改"
   ]
  },
  {
   "cell_type": "code",
   "execution_count": 5,
   "metadata": {
    "execution": {
     "iopub.execute_input": "2020-12-17T06:59:59.746967Z",
     "iopub.status.busy": "2020-12-17T06:59:59.746807Z",
     "iopub.status.idle": "2020-12-17T06:59:59.750843Z",
     "shell.execute_reply": "2020-12-17T06:59:59.750036Z",
     "shell.execute_reply.started": "2020-12-17T06:59:59.746947Z"
    }
   },
   "outputs": [
    {
     "ename": "SyntaxError",
     "evalue": "invalid syntax (<ipython-input-5-8a0234cc971a>, line 1)",
     "output_type": "error",
     "traceback": [
      "\u001b[0;36m  File \u001b[0;32m\"<ipython-input-5-8a0234cc971a>\"\u001b[0;36m, line \u001b[0;32m1\u001b[0m\n\u001b[0;31m    def env_rancher_pipeline_generate()\u001b[0m\n\u001b[0m                                       ^\u001b[0m\n\u001b[0;31mSyntaxError\u001b[0m\u001b[0;31m:\u001b[0m invalid syntax\n"
     ]
    }
   ],
   "source": [
    "def env_rancher_pipeline_generate():\n",
    "    # 讀取範例檔案\n",
    "    global PIPELINE_TEMPLATE_FILE\n",
    "    with open(PIPELINE_TEMPLATE_FILE, 'r') as stream:\n",
    "        pipeline_template = yaml.load(stream, Loader=yaml.FullLoader)\n",
    "    \n",
    "    "
   ]
  },
  {
   "cell_type": "code",
   "execution_count": null,
   "metadata": {
    "execution": {
     "iopub.status.busy": "2020-12-17T06:59:59.751377Z",
     "iopub.status.idle": "2020-12-17T06:59:59.751611Z"
    }
   },
   "outputs": [],
   "source": [
    "env_rancher_pipeline_generate()"
   ]
  },
  {
   "cell_type": "markdown",
   "metadata": {},
   "source": [
    "## 使用者僅需要前端部屬"
   ]
  },
  {
   "cell_type": "code",
   "execution_count": null,
   "metadata": {
    "execution": {
     "iopub.status.busy": "2020-12-17T06:59:59.752395Z",
     "iopub.status.idle": "2020-12-17T06:59:59.752626Z"
    }
   },
   "outputs": [],
   "source": [
    "def web_service_pipeline(registry_ip, registry_is_secure):\n",
    "    with open('./stander-rancher-pipeline.yaml', 'r') as stream:\n",
    "        pipeline_template = yaml.load(stream, Loader=yaml.FullLoader)\n",
    "    temp_pipeline_stages = pipeline_template['stages']\n",
    "    # 把最後面的階段移除\n",
    "    temp_pipeline_stages.pop(2)\n",
    "    # (開發環境: registry IP)\n",
    "    temp_pipeline_stages[0]['steps'][0]['publishImageConfig']['registry'] = registry_ip\n",
    "    return yaml.dump(pipeline_template, sys.stdout)"
   ]
  },
  {
   "cell_type": "code",
   "execution_count": null,
   "metadata": {
    "execution": {
     "iopub.status.busy": "2020-12-17T06:59:59.753274Z",
     "iopub.status.idle": "2020-12-17T06:59:59.753498Z"
    }
   },
   "outputs": [],
   "source": [
    "web_service_pipeline(\"10.22.22.22\")"
   ]
  },
  {
   "cell_type": "markdown",
   "metadata": {},
   "source": [
    "## 使用者僅需要資料庫"
   ]
  },
  {
   "cell_type": "code",
   "execution_count": null,
   "metadata": {
    "execution": {
     "iopub.status.busy": "2020-12-17T06:59:59.754108Z",
     "iopub.status.idle": "2020-12-17T06:59:59.754335Z"
    }
   },
   "outputs": [],
   "source": [
    "def db_service_pipeline():\n",
    "    with open('./stander-rancher-pipeline.yaml', 'r') as stream:\n",
    "        pipeline_template = yaml.load(stream, Loader=yaml.FullLoader)\n",
    "    temp_pipeline_stages = pipeline_template['stages']\n",
    "    # 把最前面的兩個階段移除\n",
    "    temp_pipeline_stages.pop(0)\n",
    "    temp_pipeline_stages.pop(0)\n",
    "    return yaml.dump(pipeline_template, sys.stdout)"
   ]
  },
  {
   "cell_type": "code",
   "execution_count": null,
   "metadata": {
    "execution": {
     "iopub.status.busy": "2020-12-17T06:59:59.754832Z",
     "iopub.status.idle": "2020-12-17T06:59:59.755057Z"
    }
   },
   "outputs": [],
   "source": [
    "db_service_pipeline()"
   ]
  },
  {
   "cell_type": "code",
   "execution_count": null,
   "metadata": {
    "execution": {
     "iopub.status.busy": "2020-12-17T06:59:59.756041Z",
     "iopub.status.idle": "2020-12-17T06:59:59.756313Z"
    }
   },
   "outputs": [],
   "source": [
    "import pyyaml"
   ]
  },
  {
   "cell_type": "code",
   "execution_count": null,
   "metadata": {},
   "outputs": [],
   "source": []
  }
 ],
 "metadata": {
  "kernelspec": {
   "display_name": "Python 3",
   "language": "python",
   "name": "python3"
  },
  "language_info": {
   "codemirror_mode": {
    "name": "ipython",
    "version": 3
   },
   "file_extension": ".py",
   "mimetype": "text/x-python",
   "name": "python",
   "nbconvert_exporter": "python",
   "pygments_lexer": "ipython3",
   "version": "3.8.6"
  }
 },
 "nbformat": 4,
 "nbformat_minor": 4
}
