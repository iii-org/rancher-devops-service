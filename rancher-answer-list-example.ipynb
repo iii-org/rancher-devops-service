{
 "cells": [
  {
   "cell_type": "markdown",
   "metadata": {},
   "source": [
    "## rancher-answer\n",
    "\n",
    "讀取chart內的question.yaml資料"
   ]
  },
  {
   "cell_type": "code",
   "execution_count": 1,
   "metadata": {
    "execution": {
     "iopub.execute_input": "2020-12-18T08:02:50.998661Z",
     "iopub.status.busy": "2020-12-18T08:02:50.997871Z",
     "iopub.status.idle": "2020-12-18T08:02:51.050054Z",
     "shell.execute_reply": "2020-12-18T08:02:51.049355Z",
     "shell.execute_reply.started": "2020-12-18T08:02:50.998465Z"
    }
   },
   "outputs": [],
   "source": [
    "## 引入函示庫\n",
    "import yaml\n",
    "import sys\n",
    "import os"
   ]
  },
  {
   "cell_type": "code",
   "execution_count": null,
   "metadata": {},
   "outputs": [],
   "source": [
    "os.getenv('GIT_COPY_TOKEN', '')"
   ]
  }
 ],
 "metadata": {
  "kernelspec": {
   "display_name": "Python 3",
   "language": "python",
   "name": "python3"
  },
  "language_info": {
   "codemirror_mode": {
    "name": "ipython",
    "version": 3
   },
   "file_extension": ".py",
   "mimetype": "text/x-python",
   "name": "python",
   "nbconvert_exporter": "python",
   "pygments_lexer": "ipython3",
   "version": "3.8.6"
  }
 },
 "nbformat": 4,
 "nbformat_minor": 4
}
