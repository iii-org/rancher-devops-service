{
 "cells": [
  {
   "cell_type": "markdown",
   "metadata": {},
   "source": [
    "#### WEB專案請求範例JSON資料"
   ]
  },
  {
   "cell_type": "code",
   "execution_count": null,
   "metadata": {},
   "outputs": [],
   "source": [
    "web_json = \\\n",
    "\"\"\"\n",
    "{\n",
    "\t\"checkmarx\": {\n",
    "\t\t\"enabled\": true,\n",
    "\t\t\"version\": \"latest\"\n",
    "\t},\n",
    "\t\"newman\": {\n",
    "\t\t\"enabled\": false\n",
    "\t},\n",
    "\t\"web\": {\n",
    "\t\t\"type\": \"php\"\n",
    "\t}\n",
    "}\n",
    "\"\"\""
   ]
  },
  {
   "cell_type": "code",
   "execution_count": null,
   "metadata": {},
   "outputs": [],
   "source": [
    "import json\n",
    "import os\n",
    "from lib_pipeline.rancher_pipeline import env_rancher_pipeline_generate, web_service_pipeline\n",
    "import yaml\n",
    "import sys"
   ]
  },
  {
   "cell_type": "code",
   "execution_count": 3,
   "metadata": {
    "execution": {
     "iopub.status.idle": "2020-12-23T09:13:16.595167Z",
     "shell.execute_reply": "2020-12-23T09:13:16.594540Z",
     "shell.execute_reply.started": "2020-12-23T09:13:16.585202Z"
    }
   },
   "outputs": [],
   "source": [
    "web_obj = json.loads(web_json)\n",
    "web_obj"
   ]
  },
  {
   "cell_type": "code",
   "execution_count": 4,
   "metadata": {
    "execution": {
     "iopub.execute_input": "2020-12-23T09:13:16.597954Z",
     "iopub.status.busy": "2020-12-23T09:13:16.597775Z",
     "iopub.status.idle": "2020-12-23T09:13:16.621729Z",
     "shell.execute_reply": "2020-12-23T09:13:16.621188Z",
     "shell.execute_reply.started": "2020-12-23T09:13:16.597931Z"
    }
   },
   "outputs": [
    {
     "name": "stdout",
     "output_type": "stream",
     "text": [
      "stages:\n",
      "- name: Publish User Web image\n",
      "  steps:\n",
      "  - env:\n",
      "      PLUGIN_INSECURE: 'false'\n",
      "    publishImageConfig:\n",
      "      buildContext: .\n",
      "      dockerfilePath: ./Dockerfile\n",
      "      pushRemote: true\n",
      "      registry: XX.XX.XX.XX:XXXX\n",
      "      tag: ${CICD_GIT_REPO_NAME}/${CICD_GIT_BRANCH}-web:latest\n",
      "- name: Deploy app-web\n",
      "  steps:\n",
      "  - applyAppConfig:\n",
      "      answers:\n",
      "        checkmarx.enabled: true\n",
      "        checkmarx.version: latest\n",
      "        git.branch: ${CICD_GIT_BRANCH}\n",
      "        git.commitID: ${CICD_GIT_COMMIT}\n",
      "        git.repoName: ${CICD_GIT_REPO_NAME}\n",
      "        git.url: ${CICD_GIT_URL}\n",
      "        newman.enabled: false\n",
      "        web.image: 10.50.1.63:5443/${CICD_GIT_REPO_NAME}/${CICD_GIT_BRANCH}-web:latest\n",
      "        web.tag: latest\n",
      "        web.type: php\n",
      "      catalogTemplate: cattle-global-data:iii-dev-charts3-web\n",
      "      name: ${CICD_GIT_REPO_NAME}-${CICD_GIT_BRANCH}-web\n",
      "      targetNamespace: ${CICD_GIT_REPO_NAME}\n",
      "      version: 0.1.0\n"
     ]
    }
   ],
   "source": [
    "web_pipeline_template = web_service_pipeline(web_obj['checkmarx']['enabled'], web_obj['checkmarx']['version'], web_obj['newman']['enabled'], web_obj['web']['type'])\n",
    "yaml.dump(web_pipeline_template, sys.stdout)"
   ]
  },
  {
   "cell_type": "code",
   "execution_count": null,
   "metadata": {},
   "outputs": [],
   "source": []
  }
 ],
 "metadata": {
  "kernelspec": {
   "display_name": "Python 3",
   "language": "python",
   "name": "python3"
  },
  "language_info": {
   "codemirror_mode": {
    "name": "ipython",
    "version": 3
   },
   "file_extension": ".py",
   "mimetype": "text/x-python",
   "name": "python",
   "nbconvert_exporter": "python",
   "pygments_lexer": "ipython3",
   "version": "3.8.6"
  }
 },
 "nbformat": 4,
 "nbformat_minor": 4
}
