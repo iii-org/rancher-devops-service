{
 "cells": [
  {
   "cell_type": "markdown",
   "metadata": {
    "execution": {
     "iopub.execute_input": "2020-12-25T06:45:58.358353Z",
     "iopub.status.busy": "2020-12-25T06:45:58.357549Z",
     "iopub.status.idle": "2020-12-25T06:45:58.367919Z",
     "shell.execute_reply": "2020-12-25T06:45:58.365778Z",
     "shell.execute_reply.started": "2020-12-25T06:45:58.358160Z"
    }
   },
   "source": [
    "## DB專案請求範例JSON資料"
   ]
  },
  {
   "cell_type": "code",
   "execution_count": 1,
   "metadata": {
    "execution": {
     "iopub.execute_input": "2020-12-25T06:55:42.567798Z",
     "iopub.status.busy": "2020-12-25T06:55:42.567526Z",
     "iopub.status.idle": "2020-12-25T06:55:42.572331Z",
     "shell.execute_reply": "2020-12-25T06:55:42.571604Z",
     "shell.execute_reply.started": "2020-12-25T06:55:42.567731Z"
    }
   },
   "outputs": [],
   "source": [
    "db_json = \\\n",
    "\"\"\"\n",
    "{\n",
    "\t\"db\": {\n",
    "\t\t\"type\": \"mariadb\",\n",
    "\t\t\"gui\": true,\n",
    "\t\t\"username\": \"bear\",\n",
    "\t\t\"password\": \"bearisbear\",\n",
    "\t\t\"name\": \"health\"\n",
    "\t}\n",
    "}\n",
    "\"\"\""
   ]
  },
  {
   "cell_type": "code",
   "execution_count": 2,
   "metadata": {
    "execution": {
     "iopub.execute_input": "2020-12-25T06:55:42.573924Z",
     "iopub.status.busy": "2020-12-25T06:55:42.573476Z",
     "iopub.status.idle": "2020-12-25T06:55:42.603736Z",
     "shell.execute_reply": "2020-12-25T06:55:42.603076Z",
     "shell.execute_reply.started": "2020-12-25T06:55:42.573893Z"
    }
   },
   "outputs": [],
   "source": [
    "import json\n",
    "import os\n",
    "from lib_pipeline.rancher_pipeline import env_rancher_pipeline_generate, db_service_pipeline\n",
    "import yaml\n",
    "import sys"
   ]
  },
  {
   "cell_type": "code",
   "execution_count": 3,
   "metadata": {
    "execution": {
     "iopub.execute_input": "2020-12-25T06:55:42.605097Z",
     "iopub.status.busy": "2020-12-25T06:55:42.604900Z",
     "iopub.status.idle": "2020-12-25T06:55:42.614610Z",
     "shell.execute_reply": "2020-12-25T06:55:42.614070Z",
     "shell.execute_reply.started": "2020-12-25T06:55:42.605074Z"
    }
   },
   "outputs": [
    {
     "data": {
      "text/plain": [
       "{'db': {'type': 'mariadb',\n",
       "  'gui': True,\n",
       "  'username': 'bear',\n",
       "  'password': 'bearisbear',\n",
       "  'name': 'health'}}"
      ]
     },
     "execution_count": 3,
     "metadata": {},
     "output_type": "execute_result"
    }
   ],
   "source": [
    "db_obj = json.loads(db_json)\n",
    "db_obj"
   ]
  },
  {
   "cell_type": "code",
   "execution_count": 4,
   "metadata": {
    "execution": {
     "iopub.execute_input": "2020-12-25T06:55:42.615794Z",
     "iopub.status.busy": "2020-12-25T06:55:42.615603Z",
     "iopub.status.idle": "2020-12-25T06:55:42.634002Z",
     "shell.execute_reply": "2020-12-25T06:55:42.633440Z",
     "shell.execute_reply.started": "2020-12-25T06:55:42.615771Z"
    }
   },
   "outputs": [
    {
     "name": "stdout",
     "output_type": "stream",
     "text": [
      "stages:\n",
      "- name: Deploy app-db\n",
      "  steps:\n",
      "  - applyAppConfig:\n",
      "      answers:\n",
      "        db.name: health\n",
      "        db.password: bearisbear\n",
      "        db.type: mariadb\n",
      "        db.username: bear\n",
      "        git.branch: ${CICD_GIT_BRANCH}\n",
      "        git.host: 10.XX.XX.XX\n",
      "        git.repoName: ${CICD_GIT_REPO_NAME}\n",
      "      catalogTemplate: cattle-global-data:iii-dev-charts3-db\n",
      "      name: ${CICD_GIT_REPO_NAME}-${CICD_GIT_BRANCH}\n",
      "      targetNamespace: ${CICD_GIT_REPO_NAME}\n",
      "      version: 0.1.0\n"
     ]
    }
   ],
   "source": [
    "db_pipeline_template = db_service_pipeline(db_obj['db']['name'], db_obj['db']['type'], db_obj['db']['username'], db_obj['db']['password'])\n",
    "yaml.dump(db_pipeline_template, sys.stdout)"
   ]
  }
 ],
 "metadata": {
  "kernelspec": {
   "display_name": "Python 3",
   "language": "python",
   "name": "python3"
  },
  "language_info": {
   "codemirror_mode": {
    "name": "ipython",
    "version": 3
   },
   "file_extension": ".py",
   "mimetype": "text/x-python",
   "name": "python",
   "nbconvert_exporter": "python",
   "pygments_lexer": "ipython3",
   "version": "3.8.6"
  }
 },
 "nbformat": 4,
 "nbformat_minor": 4
}
