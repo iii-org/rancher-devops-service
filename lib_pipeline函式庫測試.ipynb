{
 "cells": [
  {
   "cell_type": "code",
   "execution_count": 1,
   "metadata": {
    "execution": {
     "iopub.execute_input": "2020-12-23T08:57:13.430269Z",
     "iopub.status.busy": "2020-12-23T08:57:13.428800Z",
     "iopub.status.idle": "2020-12-23T08:57:13.476283Z",
     "shell.execute_reply": "2020-12-23T08:57:13.475494Z",
     "shell.execute_reply.started": "2020-12-23T08:57:13.430069Z"
    }
   },
   "outputs": [],
   "source": [
    "import json\n",
    "import os\n",
    "from lib_pipeline.rancher_pipeline import env_rancher_pipeline_generate\n",
    "\n",
    "# 為了顯示測試\n",
    "import yaml\n",
    "import sys"
   ]
  },
  {
   "cell_type": "code",
   "execution_count": 2,
   "metadata": {
    "execution": {
     "iopub.execute_input": "2020-12-23T08:57:13.477497Z",
     "iopub.status.busy": "2020-12-23T08:57:13.477299Z",
     "iopub.status.idle": "2020-12-23T08:57:13.480927Z",
     "shell.execute_reply": "2020-12-23T08:57:13.480234Z",
     "shell.execute_reply.started": "2020-12-23T08:57:13.477473Z"
    }
   },
   "outputs": [],
   "source": [
    "PIPELINE_TEMPLATE_FILE = './stander-rancher-pipeline.yaml'\n",
    "## 部屬環境Config模擬\n",
    "DEVOPS_REGISTRY = os.getenv('DEVOPS_REGISTRY', \"XX.XX.XX.XX:XXXX\")\n",
    "REGISTRY_INSECURE = os.getenv('REGISTRY_INSECURE', \"false\")\n",
    "GIT_HOST = os.getenv('GIT_HOST', \"10.XX.XX.XX\")"
   ]
  },
  {
   "cell_type": "code",
   "execution_count": 3,
   "metadata": {
    "execution": {
     "iopub.execute_input": "2020-12-23T08:57:13.484284Z",
     "iopub.status.busy": "2020-12-23T08:57:13.484095Z",
     "iopub.status.idle": "2020-12-23T08:57:13.503353Z",
     "shell.execute_reply": "2020-12-23T08:57:13.502714Z",
     "shell.execute_reply.started": "2020-12-23T08:57:13.484260Z"
    }
   },
   "outputs": [
    {
     "data": {
      "text/plain": [
       "{'stages': [{'name': 'Publish User Web image',\n",
       "   'steps': [{'publishImageConfig': {'dockerfilePath': './Dockerfile',\n",
       "      'buildContext': '.',\n",
       "      'tag': '${CICD_GIT_REPO_NAME}/${CICD_GIT_BRANCH}-web:latest',\n",
       "      'pushRemote': True,\n",
       "      'registry': 'XX.XX.XX.XX:XXXX'},\n",
       "     'env': {'PLUGIN_INSECURE': 'false'}}]},\n",
       "  {'name': 'Deploy app-web',\n",
       "   'steps': [{'applyAppConfig': {'catalogTemplate': 'cattle-global-data:iii-dev-charts3-web',\n",
       "      'version': '0.1.0',\n",
       "      'name': '${CICD_GIT_REPO_NAME}-${CICD_GIT_BRANCH}-web',\n",
       "      'targetNamespace': '${CICD_GIT_REPO_NAME}',\n",
       "      'answers': {'git.url': '${CICD_GIT_URL}',\n",
       "       'git.branch': '${CICD_GIT_BRANCH}',\n",
       "       'git.commitID': '${CICD_GIT_COMMIT}',\n",
       "       'git.repoName': '${CICD_GIT_REPO_NAME}',\n",
       "       'web.type': 'uwsgi-flask',\n",
       "       'web.image': '10.50.1.63:5443/${CICD_GIT_REPO_NAME}/${CICD_GIT_BRANCH}-web:latest',\n",
       "       'web.tag': 'latest',\n",
       "       'checkmarx.enabled': False,\n",
       "       'checkmarx.version': 'latest',\n",
       "       'newman.enabled': False}}}]},\n",
       "  {'name': 'Deploy app-db',\n",
       "   'steps': [{'applyAppConfig': {'catalogTemplate': 'cattle-global-data:iii-dev-charts3-db',\n",
       "      'version': '0.1.0',\n",
       "      'name': '${CICD_GIT_REPO_NAME}-${CICD_GIT_BRANCH}',\n",
       "      'targetNamespace': '${CICD_GIT_REPO_NAME}',\n",
       "      'answers': {'git.host': '10.XX.XX.XX',\n",
       "       'git.repoName': '${CICD_GIT_REPO_NAME}',\n",
       "       'git.branch': '${CICD_GIT_BRANCH}',\n",
       "       'db.type': 'mysql',\n",
       "       'db.username': 'bear',\n",
       "       'db.password': 'bearisbear',\n",
       "       'db.name': 'health'}}}]}]}"
      ]
     },
     "execution_count": 3,
     "metadata": {},
     "output_type": "execute_result"
    }
   ],
   "source": [
    "env_rancher_pipeline_generate(PIPELINE_TEMPLATE_FILE, DEVOPS_REGISTRY, REGISTRY_INSECURE, GIT_HOST)"
   ]
  },
  {
   "cell_type": "code",
   "execution_count": 4,
   "metadata": {
    "execution": {
     "iopub.execute_input": "2020-12-23T08:57:13.504244Z",
     "iopub.status.busy": "2020-12-23T08:57:13.504059Z",
     "iopub.status.idle": "2020-12-23T08:57:13.530763Z",
     "shell.execute_reply": "2020-12-23T08:57:13.530184Z",
     "shell.execute_reply.started": "2020-12-23T08:57:13.504221Z"
    }
   },
   "outputs": [
    {
     "name": "stdout",
     "output_type": "stream",
     "text": [
      "stages:\n",
      "- name: Publish User Web image\n",
      "  steps:\n",
      "  - env:\n",
      "      PLUGIN_INSECURE: 'false'\n",
      "    publishImageConfig:\n",
      "      buildContext: .\n",
      "      dockerfilePath: ./Dockerfile\n",
      "      pushRemote: true\n",
      "      registry: XX.XX.XX.XX:XXXX\n",
      "      tag: ${CICD_GIT_REPO_NAME}/${CICD_GIT_BRANCH}-web:latest\n",
      "- name: Deploy app-web\n",
      "  steps:\n",
      "  - applyAppConfig:\n",
      "      answers:\n",
      "        checkmarx.enabled: false\n",
      "        checkmarx.version: latest\n",
      "        git.branch: ${CICD_GIT_BRANCH}\n",
      "        git.commitID: ${CICD_GIT_COMMIT}\n",
      "        git.repoName: ${CICD_GIT_REPO_NAME}\n",
      "        git.url: ${CICD_GIT_URL}\n",
      "        newman.enabled: false\n",
      "        web.image: 10.50.1.63:5443/${CICD_GIT_REPO_NAME}/${CICD_GIT_BRANCH}-web:latest\n",
      "        web.tag: latest\n",
      "        web.type: uwsgi-flask\n",
      "      catalogTemplate: cattle-global-data:iii-dev-charts3-web\n",
      "      name: ${CICD_GIT_REPO_NAME}-${CICD_GIT_BRANCH}-web\n",
      "      targetNamespace: ${CICD_GIT_REPO_NAME}\n",
      "      version: 0.1.0\n",
      "- name: Deploy app-db\n",
      "  steps:\n",
      "  - applyAppConfig:\n",
      "      answers:\n",
      "        db.name: health\n",
      "        db.password: bearisbear\n",
      "        db.type: mysql\n",
      "        db.username: bear\n",
      "        git.branch: ${CICD_GIT_BRANCH}\n",
      "        git.host: 10.XX.XX.XX\n",
      "        git.repoName: ${CICD_GIT_REPO_NAME}\n",
      "      catalogTemplate: cattle-global-data:iii-dev-charts3-db\n",
      "      name: ${CICD_GIT_REPO_NAME}-${CICD_GIT_BRANCH}\n",
      "      targetNamespace: ${CICD_GIT_REPO_NAME}\n",
      "      version: 0.1.0\n"
     ]
    }
   ],
   "source": [
    "yaml.dump(env_rancher_pipeline_generate(PIPELINE_TEMPLATE_FILE, DEVOPS_REGISTRY, REGISTRY_INSECURE, GIT_HOST), sys.stdout)"
   ]
  },
  {
   "cell_type": "code",
   "execution_count": null,
   "metadata": {},
   "outputs": [],
   "source": []
  }
 ],
 "metadata": {
  "kernelspec": {
   "display_name": "Python 3",
   "language": "python",
   "name": "python3"
  },
  "language_info": {
   "codemirror_mode": {
    "name": "ipython",
    "version": 3
   },
   "file_extension": ".py",
   "mimetype": "text/x-python",
   "name": "python",
   "nbconvert_exporter": "python",
   "pygments_lexer": "ipython3",
   "version": "3.8.6"
  }
 },
 "nbformat": 4,
 "nbformat_minor": 4
}
