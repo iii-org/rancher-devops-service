{
 "cells": [
  {
   "cell_type": "code",
   "execution_count": null,
   "metadata": {},
   "outputs": [],
   "source": [
    "import json\n",
    "import os\n",
    "from lib_pipeline.rancher_pipeline import env_rancher_pipeline_generate\n",
    "\n",
    "# 為了顯示測試\n",
    "import yaml\n",
    "import sys"
   ]
  },
  {
   "cell_type": "code",
   "execution_count": 2,
   "metadata": {
    "execution": {
     "iopub.execute_input": "2020-12-25T06:41:09.021218Z",
     "iopub.status.busy": "2020-12-25T06:41:09.020582Z",
     "iopub.status.idle": "2020-12-25T06:41:09.030871Z",
     "shell.execute_reply": "2020-12-25T06:41:09.028825Z",
     "shell.execute_reply.started": "2020-12-25T06:41:09.021139Z"
    }
   },
   "outputs": [],
   "source": [
    "PIPELINE_TEMPLATE_FILE = './stander-rancher-pipeline.yaml'\n",
    "## 部屬環境Config模擬\n",
    "DEVOPS_REGISTRY = os.getenv('DEVOPS_REGISTRY', \"XX.XX.XX.XX:XXXX\")\n",
    "REGISTRY_INSECURE = os.getenv('REGISTRY_INSECURE', \"false\")\n",
    "GIT_HOST = os.getenv('GIT_HOST', \"10.XX.XX.XX\")"
   ]
  },
  {
   "cell_type": "markdown",
   "metadata": {},
   "source": [
    "## 測試按照不同測試環境產生piepline範本檔案\n",
    "\n",
    "參數說明: \n",
    "* `PIPELINE_TEMPLATE_FILE`: 範本檔案位置\n",
    "* `DEVOPS_REGISTRY`: private registry 位置，在iii-devops內指的是harbor的位置\n",
    "* `REGISTRY_INSECURE`: 是否是不安全的registry，若無有效的憑證則選true\n",
    "* `GIT_HOST`: 程式碼專案的儲存地點，在iii-devops內指的是gitlab的IP"
   ]
  },
  {
   "cell_type": "code",
   "execution_count": 3,
   "metadata": {
    "execution": {
     "iopub.execute_input": "2020-12-25T06:41:09.035692Z",
     "iopub.status.busy": "2020-12-25T06:41:09.035068Z",
     "iopub.status.idle": "2020-12-25T06:41:09.075276Z",
     "shell.execute_reply": "2020-12-25T06:41:09.074612Z",
     "shell.execute_reply.started": "2020-12-25T06:41:09.035613Z"
    }
   },
   "outputs": [
    {
     "data": {
      "text/plain": [
       "{'stages': [{'name': 'Publish User Web image',\n",
       "   'steps': [{'publishImageConfig': {'dockerfilePath': './Dockerfile',\n",
       "      'buildContext': '.',\n",
       "      'tag': '${CICD_GIT_REPO_NAME}/${CICD_GIT_BRANCH}-web:latest',\n",
       "      'pushRemote': True,\n",
       "      'registry': 'XX.XX.XX.XX:XXXX'},\n",
       "     'env': {'PLUGIN_INSECURE': 'false'}}]},\n",
       "  {'name': 'Deploy app-web',\n",
       "   'steps': [{'applyAppConfig': {'catalogTemplate': 'cattle-global-data:iii-dev-charts3-web',\n",
       "      'version': '0.1.0',\n",
       "      'name': '${CICD_GIT_REPO_NAME}-${CICD_GIT_BRANCH}-web',\n",
       "      'targetNamespace': '${CICD_GIT_REPO_NAME}',\n",
       "      'answers': {'git.url': '${CICD_GIT_URL}',\n",
       "       'git.branch': '${CICD_GIT_BRANCH}',\n",
       "       'git.commitID': '${CICD_GIT_COMMIT}',\n",
       "       'git.repoName': '${CICD_GIT_REPO_NAME}',\n",
       "       'web.type': 'uwsgi-flask',\n",
       "       'web.image': '10.50.1.63:5443/${CICD_GIT_REPO_NAME}/${CICD_GIT_BRANCH}-web:latest',\n",
       "       'web.tag': 'latest',\n",
       "       'checkmarx.enabled': False,\n",
       "       'checkmarx.version': 'latest',\n",
       "       'newman.enabled': False}}}]},\n",
       "  {'name': 'Deploy app-db',\n",
       "   'steps': [{'applyAppConfig': {'catalogTemplate': 'cattle-global-data:iii-dev-charts3-db',\n",
       "      'version': '0.1.0',\n",
       "      'name': '${CICD_GIT_REPO_NAME}-${CICD_GIT_BRANCH}',\n",
       "      'targetNamespace': '${CICD_GIT_REPO_NAME}',\n",
       "      'answers': {'git.host': '10.XX.XX.XX',\n",
       "       'git.repoName': '${CICD_GIT_REPO_NAME}',\n",
       "       'git.branch': '${CICD_GIT_BRANCH}',\n",
       "       'db.type': 'mysql',\n",
       "       'db.username': 'bear',\n",
       "       'db.password': 'bearisbear',\n",
       "       'db.name': 'health'}}}]}]}"
      ]
     },
     "execution_count": 3,
     "metadata": {},
     "output_type": "execute_result"
    }
   ],
   "source": [
    "env_rancher_pipeline_generate(PIPELINE_TEMPLATE_FILE, DEVOPS_REGISTRY, REGISTRY_INSECURE, GIT_HOST)"
   ]
  },
  {
   "cell_type": "markdown",
   "metadata": {},
   "source": [
    "## 測試結果顯示"
   ]
  },
  {
   "cell_type": "code",
   "execution_count": 4,
   "metadata": {
    "execution": {
     "iopub.execute_input": "2020-12-25T06:41:09.076470Z",
     "iopub.status.busy": "2020-12-25T06:41:09.076279Z",
     "iopub.status.idle": "2020-12-25T06:41:09.101089Z",
     "shell.execute_reply": "2020-12-25T06:41:09.100585Z",
     "shell.execute_reply.started": "2020-12-25T06:41:09.076446Z"
    }
   },
   "outputs": [
    {
     "name": "stdout",
     "output_type": "stream",
     "text": [
      "stages:\n",
      "- name: Publish User Web image\n",
      "  steps:\n",
      "  - env:\n",
      "      PLUGIN_INSECURE: 'false'\n",
      "    publishImageConfig:\n",
      "      buildContext: .\n",
      "      dockerfilePath: ./Dockerfile\n",
      "      pushRemote: true\n",
      "      registry: XX.XX.XX.XX:XXXX\n",
      "      tag: ${CICD_GIT_REPO_NAME}/${CICD_GIT_BRANCH}-web:latest\n",
      "- name: Deploy app-web\n",
      "  steps:\n",
      "  - applyAppConfig:\n",
      "      answers:\n",
      "        checkmarx.enabled: false\n",
      "        checkmarx.version: latest\n",
      "        git.branch: ${CICD_GIT_BRANCH}\n",
      "        git.commitID: ${CICD_GIT_COMMIT}\n",
      "        git.repoName: ${CICD_GIT_REPO_NAME}\n",
      "        git.url: ${CICD_GIT_URL}\n",
      "        newman.enabled: false\n",
      "        web.image: 10.50.1.63:5443/${CICD_GIT_REPO_NAME}/${CICD_GIT_BRANCH}-web:latest\n",
      "        web.tag: latest\n",
      "        web.type: uwsgi-flask\n",
      "      catalogTemplate: cattle-global-data:iii-dev-charts3-web\n",
      "      name: ${CICD_GIT_REPO_NAME}-${CICD_GIT_BRANCH}-web\n",
      "      targetNamespace: ${CICD_GIT_REPO_NAME}\n",
      "      version: 0.1.0\n",
      "- name: Deploy app-db\n",
      "  steps:\n",
      "  - applyAppConfig:\n",
      "      answers:\n",
      "        db.name: health\n",
      "        db.password: bearisbear\n",
      "        db.type: mysql\n",
      "        db.username: bear\n",
      "        git.branch: ${CICD_GIT_BRANCH}\n",
      "        git.host: 10.XX.XX.XX\n",
      "        git.repoName: ${CICD_GIT_REPO_NAME}\n",
      "      catalogTemplate: cattle-global-data:iii-dev-charts3-db\n",
      "      name: ${CICD_GIT_REPO_NAME}-${CICD_GIT_BRANCH}\n",
      "      targetNamespace: ${CICD_GIT_REPO_NAME}\n",
      "      version: 0.1.0\n"
     ]
    }
   ],
   "source": [
    "yaml.dump(env_rancher_pipeline_generate(PIPELINE_TEMPLATE_FILE, DEVOPS_REGISTRY, REGISTRY_INSECURE, GIT_HOST), sys.stdout)"
   ]
  },
  {
   "cell_type": "code",
   "execution_count": null,
   "metadata": {},
   "outputs": [],
   "source": []
  }
 ],
 "metadata": {
  "kernelspec": {
   "display_name": "Python 3",
   "language": "python",
   "name": "python3"
  },
  "language_info": {
   "codemirror_mode": {
    "name": "ipython",
    "version": 3
   },
   "file_extension": ".py",
   "mimetype": "text/x-python",
   "name": "python",
   "nbconvert_exporter": "python",
   "pygments_lexer": "ipython3",
   "version": "3.8.6"
  }
 },
 "nbformat": 4,
 "nbformat_minor": 4
}
