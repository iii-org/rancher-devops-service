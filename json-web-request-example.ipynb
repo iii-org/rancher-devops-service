{
 "cells": [
  {
   "cell_type": "markdown",
   "metadata": {},
   "source": [
    "#### WEB使用者請求範例JSON資料"
   ]
  },
  {
   "cell_type": "code",
   "execution_count": 1,
   "metadata": {
    "execution": {
     "iopub.execute_input": "2020-12-23T08:54:08.170702Z",
     "iopub.status.busy": "2020-12-23T08:54:08.169871Z",
     "iopub.status.idle": "2020-12-23T08:54:08.181446Z",
     "shell.execute_reply": "2020-12-23T08:54:08.178998Z",
     "shell.execute_reply.started": "2020-12-23T08:54:08.170490Z"
    }
   },
   "outputs": [],
   "source": [
    "web_json = \\\n",
    "\"\"\"\n",
    "{\n",
    "\t\"checkmarx\": {\n",
    "\t\t\"enabled\": true,\n",
    "\t\t\"version\": \"latest\"\n",
    "\t},\n",
    "\t\"newman\": {\n",
    "\t\t\"enabled\": false\n",
    "\t},\n",
    "\t\"web\": {\n",
    "\t\t\"type\": \"php\"\n",
    "\t}\n",
    "}\n",
    "\"\"\""
   ]
  },
  {
   "cell_type": "code",
   "execution_count": 2,
   "metadata": {
    "execution": {
     "iopub.execute_input": "2020-12-23T08:54:08.186671Z",
     "iopub.status.busy": "2020-12-23T08:54:08.185962Z",
     "iopub.status.idle": "2020-12-23T08:54:08.227230Z",
     "shell.execute_reply": "2020-12-23T08:54:08.226590Z",
     "shell.execute_reply.started": "2020-12-23T08:54:08.186589Z"
    }
   },
   "outputs": [],
   "source": [
    "import json\n",
    "import os\n",
    "from lib_pipeline.rancher_pipeline import env_rancher_pipeline_generate"
   ]
  },
  {
   "cell_type": "code",
   "execution_count": 3,
   "metadata": {
    "execution": {
     "iopub.execute_input": "2020-12-23T08:54:08.228647Z",
     "iopub.status.busy": "2020-12-23T08:54:08.228453Z",
     "iopub.status.idle": "2020-12-23T08:54:08.233231Z",
     "shell.execute_reply": "2020-12-23T08:54:08.231391Z",
     "shell.execute_reply.started": "2020-12-23T08:54:08.228622Z"
    }
   },
   "outputs": [],
   "source": [
    "PIPELINE_TEMPLATE_FILE = './stander-rancher-pipeline.yaml'\n",
    "## 部屬環境Config模擬\n",
    "DEVOPS_REGISTRY = os.getenv('DEVOPS_REGISTRY', \"XX.XX.XX.XX:XXXX\")\n",
    "REGISTRY_INSECURE = os.getenv('REGISTRY_INSECURE', \"false\")\n",
    "GIT_HOST = os.getenv('GIT_HOST', \"10.XX.XX.XX\")"
   ]
  },
  {
   "cell_type": "code",
   "execution_count": 4,
   "metadata": {
    "execution": {
     "iopub.execute_input": "2020-12-23T08:54:08.234714Z",
     "iopub.status.busy": "2020-12-23T08:54:08.234334Z",
     "iopub.status.idle": "2020-12-23T08:54:08.244618Z",
     "shell.execute_reply": "2020-12-23T08:54:08.244024Z",
     "shell.execute_reply.started": "2020-12-23T08:54:08.234683Z"
    }
   },
   "outputs": [
    {
     "data": {
      "text/plain": [
       "{'checkmarx': {'enabled': True, 'version': 'latest'},\n",
       " 'newman': {'enabled': False},\n",
       " 'web': {'type': 'php'}}"
      ]
     },
     "execution_count": 4,
     "metadata": {},
     "output_type": "execute_result"
    }
   ],
   "source": [
    "web_obj = json.loads(web_json)\n",
    "web_obj"
   ]
  },
  {
   "cell_type": "code",
   "execution_count": 5,
   "metadata": {
    "execution": {
     "iopub.execute_input": "2020-12-23T08:54:08.245561Z",
     "iopub.status.busy": "2020-12-23T08:54:08.245367Z",
     "iopub.status.idle": "2020-12-23T08:54:08.251894Z",
     "shell.execute_reply": "2020-12-23T08:54:08.251106Z",
     "shell.execute_reply.started": "2020-12-23T08:54:08.245537Z"
    }
   },
   "outputs": [
    {
     "data": {
      "text/plain": [
       "{'enabled': True, 'version': 'latest'}"
      ]
     },
     "execution_count": 5,
     "metadata": {},
     "output_type": "execute_result"
    }
   ],
   "source": [
    "web_obj['checkmarx']"
   ]
  },
  {
   "cell_type": "code",
   "execution_count": null,
   "metadata": {},
   "outputs": [],
   "source": []
  }
 ],
 "metadata": {
  "kernelspec": {
   "display_name": "Python 3",
   "language": "python",
   "name": "python3"
  },
  "language_info": {
   "codemirror_mode": {
    "name": "ipython",
    "version": 3
   },
   "file_extension": ".py",
   "mimetype": "text/x-python",
   "name": "python",
   "nbconvert_exporter": "python",
   "pygments_lexer": "ipython3",
   "version": "3.8.6"
  }
 },
 "nbformat": 4,
 "nbformat_minor": 4
}
